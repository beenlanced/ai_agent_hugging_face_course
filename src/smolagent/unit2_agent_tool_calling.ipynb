{
 "cells": [
  {
   "cell_type": "markdown",
   "id": "452e7ec8",
   "metadata": {},
   "source": [
    "# Building Agents That Use Tool-Calling\n",
    "\n",
    "This notebook is part of the [Hugging Face Agents Course unit 2](https://huggingface.co/agents-course/notebooks/blob/main/unit2/smolagents/code_agents.ipynb), a free Course from beginner to expert, where you learn to build Agents.\n",
    "\n",
    "\n",
    "## Description\n",
    "In this notebook, we examine the use of `smolagents` where we emphasize the use of AI Agents that use Tool-Calling.\n",
    "\n",
    "Tool Calling Agents are the second type of agent available in smolagents. Unlike Code Agents that use Python snippets, these agents use the built-in tool-calling capabilities of LLM providers to generate tool calls as `JSON` structures. This is the standard approach used by OpenAI, Anthropic, and many other providers.\n",
    "\n",
    "`ToolCallingAgents` can be effective for simple systems that don’t require variable handling or complex tool calls.\n",
    "\n",
    "The key difference is in how ToolCallingAgents structure their actions: instead of executable code, they generate JSON objects that specify tool names and arguments. The system then parses these instructions to execute the appropriate tools.\n",
    "\n",
    "In particular, the problem this notebook is attempting to solve is:\n",
    "\n",
    "## Selecting a Playlist for the Party Using smolagents - ToolCallingAgents`\n",
    "\n"
   ]
  },
  {
   "cell_type": "markdown",
   "id": "7460dc81",
   "metadata": {},
   "source": [
    "# Load Imports"
   ]
  },
  {
   "cell_type": "code",
   "execution_count": 1,
   "id": "d23231b8",
   "metadata": {},
   "outputs": [],
   "source": [
    "\n",
    "from huggingface_hub import login\n",
    "\n",
    "from smolagents import DuckDuckGoSearchTool, InferenceClientModel, ToolCallingAgent\n"
   ]
  },
  {
   "cell_type": "markdown",
   "id": "14ae8356",
   "metadata": {},
   "source": [
    "#### Example running an ToolCallAgent"
   ]
  },
  {
   "cell_type": "code",
   "execution_count": 2,
   "id": "ca38814b",
   "metadata": {},
   "outputs": [
    {
     "data": {
      "text/html": [
       "<pre style=\"white-space:pre;overflow-x:auto;line-height:normal;font-family:Menlo,'DejaVu Sans Mono',consolas,'Courier New',monospace\"><span style=\"color: #d4b702; text-decoration-color: #d4b702\">╭──────────────────────────────────────────────────── </span><span style=\"color: #d4b702; text-decoration-color: #d4b702; font-weight: bold\">New run</span><span style=\"color: #d4b702; text-decoration-color: #d4b702\"> ────────────────────────────────────────────────────╮</span>\n",
       "<span style=\"color: #d4b702; text-decoration-color: #d4b702\">│</span>                                                                                                                 <span style=\"color: #d4b702; text-decoration-color: #d4b702\">│</span>\n",
       "<span style=\"color: #d4b702; text-decoration-color: #d4b702\">│</span> <span style=\"font-weight: bold\">Search for the best music recommendations for a party at the Wayne's mansion.</span>                                   <span style=\"color: #d4b702; text-decoration-color: #d4b702\">│</span>\n",
       "<span style=\"color: #d4b702; text-decoration-color: #d4b702\">│</span>                                                                                                                 <span style=\"color: #d4b702; text-decoration-color: #d4b702\">│</span>\n",
       "<span style=\"color: #d4b702; text-decoration-color: #d4b702\">╰─ InferenceClientModel - Qwen/Qwen2.5-Coder-32B-Instruct ────────────────────────────────────────────────────────╯</span>\n",
       "</pre>\n"
      ],
      "text/plain": [
       "\u001b[38;2;212;183;2m╭─\u001b[0m\u001b[38;2;212;183;2m───────────────────────────────────────────────────\u001b[0m\u001b[38;2;212;183;2m \u001b[0m\u001b[1;38;2;212;183;2mNew run\u001b[0m\u001b[38;2;212;183;2m \u001b[0m\u001b[38;2;212;183;2m───────────────────────────────────────────────────\u001b[0m\u001b[38;2;212;183;2m─╮\u001b[0m\n",
       "\u001b[38;2;212;183;2m│\u001b[0m                                                                                                                 \u001b[38;2;212;183;2m│\u001b[0m\n",
       "\u001b[38;2;212;183;2m│\u001b[0m \u001b[1mSearch for the best music recommendations for a party at the Wayne's mansion.\u001b[0m                                   \u001b[38;2;212;183;2m│\u001b[0m\n",
       "\u001b[38;2;212;183;2m│\u001b[0m                                                                                                                 \u001b[38;2;212;183;2m│\u001b[0m\n",
       "\u001b[38;2;212;183;2m╰─\u001b[0m\u001b[38;2;212;183;2m InferenceClientModel - Qwen/Qwen2.5-Coder-32B-Instruct \u001b[0m\u001b[38;2;212;183;2m───────────────────────────────────────────────────────\u001b[0m\u001b[38;2;212;183;2m─╯\u001b[0m\n"
      ]
     },
     "metadata": {},
     "output_type": "display_data"
    },
    {
     "data": {
      "text/html": [
       "<pre style=\"white-space:pre;overflow-x:auto;line-height:normal;font-family:Menlo,'DejaVu Sans Mono',consolas,'Courier New',monospace\"><span style=\"color: #d4b702; text-decoration-color: #d4b702\">━━━━━━━━━━━━━━━━━━━━━━━━━━━━━━━━━━━━━━━━━━━━━━━━━━━━━ </span><span style=\"font-weight: bold\">Step </span><span style=\"color: #008080; text-decoration-color: #008080; font-weight: bold\">1</span><span style=\"color: #d4b702; text-decoration-color: #d4b702\"> ━━━━━━━━━━━━━━━━━━━━━━━━━━━━━━━━━━━━━━━━━━━━━━━━━━━━━━</span>\n",
       "</pre>\n"
      ],
      "text/plain": [
       "\u001b[38;2;212;183;2m━━━━━━━━━━━━━━━━━━━━━━━━━━━━━━━━━━━━━━━━━━━━━━━━━━━━━ \u001b[0m\u001b[1mStep \u001b[0m\u001b[1;36m1\u001b[0m\u001b[38;2;212;183;2m ━━━━━━━━━━━━━━━━━━━━━━━━━━━━━━━━━━━━━━━━━━━━━━━━━━━━━━\u001b[0m\n"
      ]
     },
     "metadata": {},
     "output_type": "display_data"
    },
    {
     "data": {
      "text/html": [
       "<pre style=\"white-space:pre;overflow-x:auto;line-height:normal;font-family:Menlo,'DejaVu Sans Mono',consolas,'Courier New',monospace\">╭─────────────────────────────────────────────────────────────────────────────────────────────────────────────────╮\n",
       "│ Calling tool: 'web_search' with arguments: {'query': \"best music recommendations for a party at Wayne's         │\n",
       "│ mansion\"}                                                                                                       │\n",
       "╰─────────────────────────────────────────────────────────────────────────────────────────────────────────────────╯\n",
       "</pre>\n"
      ],
      "text/plain": [
       "╭─────────────────────────────────────────────────────────────────────────────────────────────────────────────────╮\n",
       "│ Calling tool: 'web_search' with arguments: {'query': \"best music recommendations for a party at Wayne's         │\n",
       "│ mansion\"}                                                                                                       │\n",
       "╰─────────────────────────────────────────────────────────────────────────────────────────────────────────────────╯\n"
      ]
     },
     "metadata": {},
     "output_type": "display_data"
    },
    {
     "data": {
      "text/html": [
       "<pre style=\"white-space:pre;overflow-x:auto;line-height:normal;font-family:Menlo,'DejaVu Sans Mono',consolas,'Courier New',monospace\">Observations: ## Search Results\n",
       "\n",
       "|late nights in the wayne manor | a bruce wayne rock/blues playlist<span style=\"font-weight: bold\">](</span><span style=\"color: #0000ff; text-decoration-color: #0000ff; text-decoration: underline\">https://m.youtube.com/watch?v=oOdHCjj3jn4)</span>\n",
       "these are songs that bruce wayne listens to while wandering the halls of the great wayne manor.find this playlist \n",
       "on my spotify: <span style=\"color: #0000ff; text-decoration-color: #0000ff; text-decoration: underline\">https://open.spotify.com/use...</span>\n",
       "\n",
       "|The <span style=\"color: #008080; text-decoration-color: #008080; font-weight: bold\">75</span> Best Party Songs That Will Get Everyone Dancing - \n",
       "Gear4music<span style=\"font-weight: bold\">](</span><span style=\"color: #0000ff; text-decoration-color: #0000ff; text-decoration: underline\">https://www.gear4music.com/blog/best-party-songs/)</span>\n",
       "Creating the perfect soundtrack is crucial to getting the right atmosphere at your event. If you're throwing a \n",
       "party, there are countless songs that will get everyone up and dancing; even once you've chosen your mix, you'll \n",
       "probably still think of more later! So, to keep things simple, we've compiled the best party songs of all time, \n",
       "from timeless classics to contemporary hits, giving <span style=\"color: #808000; text-decoration-color: #808000\">...</span>\n",
       "\n",
       "|<span style=\"color: #008080; text-decoration-color: #008080; font-weight: bold\">10</span> Classic Rock Songs To Play At Every \n",
       "Party<span style=\"font-weight: bold\">](</span><span style=\"color: #0000ff; text-decoration-color: #0000ff; text-decoration: underline\">https://www.classicrockhistory.com/10-classic-rock-songs-to-play-at-every-party/)</span>\n",
       "The top <span style=\"color: #008080; text-decoration-color: #008080; font-weight: bold\">10</span> classic rock songs to play at every party feature a list of songs that focus on having a good time. \n",
       "These are songs that opt to keep the troubles of the world out while inviting rockers who want to party in without \n",
       "having to worry about political and social prejudice.\n",
       "\n",
       "|Top <span style=\"color: #008080; text-decoration-color: #008080; font-weight: bold\">200</span> Most Requested Songs - DJ Event Planner<span style=\"font-weight: bold\">](</span><span style=\"color: #0000ff; text-decoration-color: #0000ff; text-decoration: underline\">https://djeventplanner.com/mostrequested.htm)</span>\n",
       "Browse the most requested songs as compiled by DJ Event Planner users. Free to use and view.\n",
       "\n",
       "|Must-Have Playlists for Different Event \n",
       "Types<span style=\"font-weight: bold\">](</span><span style=\"color: #0000ff; text-decoration-color: #0000ff; text-decoration: underline\">https://www.limelightsent.com/must-have-playlists-for-different-event-types/)</span>\n",
       "A perfectly curated event playlist has the power to create an unforgettable atmosphere at any event. Whether it's \n",
       "the soft strumming of a guitar during a wedding ceremony, the subtle background jazz at a corporate gala, or the \n",
       "booming beats at a birthday bash, music sets the tone and enriches the experience for all attendees. This blog will\n",
       "explore the art of crafting must-have playlists <span style=\"color: #808000; text-decoration-color: #808000\">...</span>\n",
       "\n",
       "|late nights in the wayne manor - YouTube Music<span style=\"font-weight: bold\">](</span><span style=\"color: #0000ff; text-decoration-color: #0000ff; text-decoration: underline\">https://music.youtube.com/watch?v=oOdHCjj3jn4)</span>\n",
       "these are songs that bruce wayne listens to while wandering the halls of the great wayne manor. find this playlist \n",
       "on my spotify: <span style=\"color: #0000ff; text-decoration-color: #0000ff; text-decoration: underline\">https://open.spotify.com/u...</span>\n",
       "\n",
       "|GUIDE TO Planning Music for a Party - \n",
       "partiesuniverse.com<span style=\"font-weight: bold\">](</span><span style=\"color: #0000ff; text-decoration-color: #0000ff; text-decoration: underline\">https://partiesuniverse.com/guide-to-planning-music-for-a-party/)</span>\n",
       "There are relatively few high-quality guides about how to plan brilliant music for a party, so we have decided to \n",
       "create our own. Our how-to guide for planning the best music for a party, is exactly what you need to throw an epic\n",
       "celebration where the music completely carries the vibe.\n",
       "\n",
       "|Similar Songs Finder | Spotify Playlist Generator - Chosic<span style=\"font-weight: bold\">](</span><span style=\"color: #0000ff; text-decoration-color: #0000ff; text-decoration: underline\">https://www.chosic.com/playlist-generator/)</span>\n",
       "Need to find similar songs to a song you like? To music you love? A playlist created for you in seconds! With \n",
       "Spotify Playlist Generator online tool, create awesome playlists in seconds, featuring similar songs to those you \n",
       "love. Whether by songs, artists, genres, moods, or based on a playlist, just start with what you have in mind, and \n",
       "it will provide you with plenty of song recommendations <span style=\"color: #808000; text-decoration-color: #808000\">...</span>\n",
       "\n",
       "|Best Songs To Party: DJ's Ultimate Party Songs Playlist<span style=\"font-weight: bold\">](</span><span style=\"color: #0000ff; text-decoration-color: #0000ff; text-decoration: underline\">https://top40weekly.com/best-songs-to-party/)</span>\n",
       "Planning a celebration? Don't forget the music! We've compiled the best songs to party that are sure to get \n",
       "everyone in the mood to dance and have a good time.\n",
       "\n",
       "|<span style=\"color: #008080; text-decoration-color: #008080; font-weight: bold\">45</span> Songs That Get Your Event Guests on the Dance Floor Every \n",
       "Time<span style=\"font-weight: bold\">](</span><span style=\"color: #0000ff; text-decoration-color: #0000ff; text-decoration: underline\">https://hub.theeventplannerexpo.com/entertainment/35-songs-that-get-your-event-guests-on-the-dance-floor-ever</span>\n",
       "<span style=\"color: #0000ff; text-decoration-color: #0000ff; text-decoration: underline\">y-time)</span>\n",
       "From there, the DJ will amp up the tunes and inspire dancing. Top Songs That Work Every Time When you work with \n",
       "your event services providers for music before the event, drill down on some of the best dance-floor songs to have \n",
       "on hand for motivating a dance crowd. You'll know your client's event best, including music genre preferences and \n",
       "<span style=\"color: #808000; text-decoration-color: #808000\">...</span>\n",
       "</pre>\n"
      ],
      "text/plain": [
       "Observations: ## Search Results\n",
       "\n",
       "|late nights in the wayne manor | a bruce wayne rock/blues playlist\u001b[1m]\u001b[0m\u001b[1m(\u001b[0m\u001b[4;94mhttps://m.youtube.com/watch?\u001b[0m\u001b[4;94mv\u001b[0m\u001b[4;94m=\u001b[0m\u001b[4;94moOdHCjj3jn4\u001b[0m\u001b[4;94m)\u001b[0m\n",
       "these are songs that bruce wayne listens to while wandering the halls of the great wayne manor.find this playlist \n",
       "on my spotify: \u001b[4;94mhttps://open.spotify.com/use...\u001b[0m\n",
       "\n",
       "|The \u001b[1;36m75\u001b[0m Best Party Songs That Will Get Everyone Dancing - \n",
       "Gear4music\u001b[1m]\u001b[0m\u001b[1m(\u001b[0m\u001b[4;94mhttps://www.gear4music.com/blog/best-party-songs/\u001b[0m\u001b[4;94m)\u001b[0m\n",
       "Creating the perfect soundtrack is crucial to getting the right atmosphere at your event. If you're throwing a \n",
       "party, there are countless songs that will get everyone up and dancing; even once you've chosen your mix, you'll \n",
       "probably still think of more later! So, to keep things simple, we've compiled the best party songs of all time, \n",
       "from timeless classics to contemporary hits, giving \u001b[33m...\u001b[0m\n",
       "\n",
       "|\u001b[1;36m10\u001b[0m Classic Rock Songs To Play At Every \n",
       "Party\u001b[1m]\u001b[0m\u001b[1m(\u001b[0m\u001b[4;94mhttps://www.classicrockhistory.com/10-classic-rock-songs-to-play-at-every-party/\u001b[0m\u001b[4;94m)\u001b[0m\n",
       "The top \u001b[1;36m10\u001b[0m classic rock songs to play at every party feature a list of songs that focus on having a good time. \n",
       "These are songs that opt to keep the troubles of the world out while inviting rockers who want to party in without \n",
       "having to worry about political and social prejudice.\n",
       "\n",
       "|Top \u001b[1;36m200\u001b[0m Most Requested Songs - DJ Event Planner\u001b[1m]\u001b[0m\u001b[1m(\u001b[0m\u001b[4;94mhttps://djeventplanner.com/mostrequested.htm\u001b[0m\u001b[4;94m)\u001b[0m\n",
       "Browse the most requested songs as compiled by DJ Event Planner users. Free to use and view.\n",
       "\n",
       "|Must-Have Playlists for Different Event \n",
       "Types\u001b[1m]\u001b[0m\u001b[1m(\u001b[0m\u001b[4;94mhttps://www.limelightsent.com/must-have-playlists-for-different-event-types/\u001b[0m\u001b[4;94m)\u001b[0m\n",
       "A perfectly curated event playlist has the power to create an unforgettable atmosphere at any event. Whether it's \n",
       "the soft strumming of a guitar during a wedding ceremony, the subtle background jazz at a corporate gala, or the \n",
       "booming beats at a birthday bash, music sets the tone and enriches the experience for all attendees. This blog will\n",
       "explore the art of crafting must-have playlists \u001b[33m...\u001b[0m\n",
       "\n",
       "|late nights in the wayne manor - YouTube Music\u001b[1m]\u001b[0m\u001b[1m(\u001b[0m\u001b[4;94mhttps://music.youtube.com/watch?\u001b[0m\u001b[4;94mv\u001b[0m\u001b[4;94m=\u001b[0m\u001b[4;94moOdHCjj3jn4\u001b[0m\u001b[4;94m)\u001b[0m\n",
       "these are songs that bruce wayne listens to while wandering the halls of the great wayne manor. find this playlist \n",
       "on my spotify: \u001b[4;94mhttps://open.spotify.com/u...\u001b[0m\n",
       "\n",
       "|GUIDE TO Planning Music for a Party - \n",
       "partiesuniverse.com\u001b[1m]\u001b[0m\u001b[1m(\u001b[0m\u001b[4;94mhttps://partiesuniverse.com/guide-to-planning-music-for-a-party/\u001b[0m\u001b[4;94m)\u001b[0m\n",
       "There are relatively few high-quality guides about how to plan brilliant music for a party, so we have decided to \n",
       "create our own. Our how-to guide for planning the best music for a party, is exactly what you need to throw an epic\n",
       "celebration where the music completely carries the vibe.\n",
       "\n",
       "|Similar Songs Finder | Spotify Playlist Generator - Chosic\u001b[1m]\u001b[0m\u001b[1m(\u001b[0m\u001b[4;94mhttps://www.chosic.com/playlist-generator/\u001b[0m\u001b[4;94m)\u001b[0m\n",
       "Need to find similar songs to a song you like? To music you love? A playlist created for you in seconds! With \n",
       "Spotify Playlist Generator online tool, create awesome playlists in seconds, featuring similar songs to those you \n",
       "love. Whether by songs, artists, genres, moods, or based on a playlist, just start with what you have in mind, and \n",
       "it will provide you with plenty of song recommendations \u001b[33m...\u001b[0m\n",
       "\n",
       "|Best Songs To Party: DJ's Ultimate Party Songs Playlist\u001b[1m]\u001b[0m\u001b[1m(\u001b[0m\u001b[4;94mhttps://top40weekly.com/best-songs-to-party/\u001b[0m\u001b[4;94m)\u001b[0m\n",
       "Planning a celebration? Don't forget the music! We've compiled the best songs to party that are sure to get \n",
       "everyone in the mood to dance and have a good time.\n",
       "\n",
       "|\u001b[1;36m45\u001b[0m Songs That Get Your Event Guests on the Dance Floor Every \n",
       "Time\u001b[1m]\u001b[0m\u001b[1m(\u001b[0m\u001b[4;94mhttps://hub.theeventplannerexpo.com/entertainment/35-songs-that-get-your-event-guests-on-the-dance-floor-ever\u001b[0m\n",
       "\u001b[4;94my-time\u001b[0m\u001b[4;94m)\u001b[0m\n",
       "From there, the DJ will amp up the tunes and inspire dancing. Top Songs That Work Every Time When you work with \n",
       "your event services providers for music before the event, drill down on some of the best dance-floor songs to have \n",
       "on hand for motivating a dance crowd. You'll know your client's event best, including music genre preferences and \n",
       "\u001b[33m...\u001b[0m\n"
      ]
     },
     "metadata": {},
     "output_type": "display_data"
    },
    {
     "data": {
      "text/html": [
       "<pre style=\"white-space:pre;overflow-x:auto;line-height:normal;font-family:Menlo,'DejaVu Sans Mono',consolas,'Courier New',monospace\"><span style=\"color: #7f7f7f; text-decoration-color: #7f7f7f\">[Step 1: Duration 1.94 seconds| Input tokens: 1,138 | Output tokens: 28]</span>\n",
       "</pre>\n"
      ],
      "text/plain": [
       "\u001b[2m[Step 1: Duration 1.94 seconds| Input tokens: 1,138 | Output tokens: 28]\u001b[0m\n"
      ]
     },
     "metadata": {},
     "output_type": "display_data"
    },
    {
     "data": {
      "text/html": [
       "<pre style=\"white-space:pre;overflow-x:auto;line-height:normal;font-family:Menlo,'DejaVu Sans Mono',consolas,'Courier New',monospace\"><span style=\"color: #d4b702; text-decoration-color: #d4b702\">━━━━━━━━━━━━━━━━━━━━━━━━━━━━━━━━━━━━━━━━━━━━━━━━━━━━━ </span><span style=\"font-weight: bold\">Step </span><span style=\"color: #008080; text-decoration-color: #008080; font-weight: bold\">2</span><span style=\"color: #d4b702; text-decoration-color: #d4b702\"> ━━━━━━━━━━━━━━━━━━━━━━━━━━━━━━━━━━━━━━━━━━━━━━━━━━━━━━</span>\n",
       "</pre>\n"
      ],
      "text/plain": [
       "\u001b[38;2;212;183;2m━━━━━━━━━━━━━━━━━━━━━━━━━━━━━━━━━━━━━━━━━━━━━━━━━━━━━ \u001b[0m\u001b[1mStep \u001b[0m\u001b[1;36m2\u001b[0m\u001b[38;2;212;183;2m ━━━━━━━━━━━━━━━━━━━━━━━━━━━━━━━━━━━━━━━━━━━━━━━━━━━━━━\u001b[0m\n"
      ]
     },
     "metadata": {},
     "output_type": "display_data"
    },
    {
     "data": {
      "text/html": [
       "<pre style=\"white-space:pre;overflow-x:auto;line-height:normal;font-family:Menlo,'DejaVu Sans Mono',consolas,'Courier New',monospace\">╭─────────────────────────────────────────────────────────────────────────────────────────────────────────────────╮\n",
       "│ Calling tool: 'web_search' with arguments: {'query': 'best music playlist for a superhero themed party'}        │\n",
       "╰─────────────────────────────────────────────────────────────────────────────────────────────────────────────────╯\n",
       "</pre>\n"
      ],
      "text/plain": [
       "╭─────────────────────────────────────────────────────────────────────────────────────────────────────────────────╮\n",
       "│ Calling tool: 'web_search' with arguments: {'query': 'best music playlist for a superhero themed party'}        │\n",
       "╰─────────────────────────────────────────────────────────────────────────────────────────────────────────────────╯\n"
      ]
     },
     "metadata": {},
     "output_type": "display_data"
    },
    {
     "data": {
      "text/html": [
       "<pre style=\"white-space:pre;overflow-x:auto;line-height:normal;font-family:Menlo,'DejaVu Sans Mono',consolas,'Courier New',monospace\">╭─────────────────────────────────────────────────────────────────────────────────────────────────────────────────╮\n",
       "│ Calling tool: 'web_search' with arguments: {'query': 'best rock music playlist for party'}                      │\n",
       "╰─────────────────────────────────────────────────────────────────────────────────────────────────────────────────╯\n",
       "</pre>\n"
      ],
      "text/plain": [
       "╭─────────────────────────────────────────────────────────────────────────────────────────────────────────────────╮\n",
       "│ Calling tool: 'web_search' with arguments: {'query': 'best rock music playlist for party'}                      │\n",
       "╰─────────────────────────────────────────────────────────────────────────────────────────────────────────────────╯\n"
      ]
     },
     "metadata": {},
     "output_type": "display_data"
    },
    {
     "data": {
      "text/html": [
       "<pre style=\"white-space:pre;overflow-x:auto;line-height:normal;font-family:Menlo,'DejaVu Sans Mono',consolas,'Courier New',monospace\">╭─────────────────────────────────────────────────────────────────────────────────────────────────────────────────╮\n",
       "│ Calling tool: 'web_search' with arguments: {'query': 'best classic rock music playlist for party'}              │\n",
       "╰─────────────────────────────────────────────────────────────────────────────────────────────────────────────────╯\n",
       "</pre>\n"
      ],
      "text/plain": [
       "╭─────────────────────────────────────────────────────────────────────────────────────────────────────────────────╮\n",
       "│ Calling tool: 'web_search' with arguments: {'query': 'best classic rock music playlist for party'}              │\n",
       "╰─────────────────────────────────────────────────────────────────────────────────────────────────────────────────╯\n"
      ]
     },
     "metadata": {},
     "output_type": "display_data"
    },
    {
     "data": {
      "text/html": [
       "<pre style=\"white-space:pre;overflow-x:auto;line-height:normal;font-family:Menlo,'DejaVu Sans Mono',consolas,'Courier New',monospace\">╭─────────────────────────────────────────────────────────────────────────────────────────────────────────────────╮\n",
       "│ Calling tool: 'web_search' with arguments: {'query': 'best party music playlist on Spotify'}                    │\n",
       "╰─────────────────────────────────────────────────────────────────────────────────────────────────────────────────╯\n",
       "</pre>\n"
      ],
      "text/plain": [
       "╭─────────────────────────────────────────────────────────────────────────────────────────────────────────────────╮\n",
       "│ Calling tool: 'web_search' with arguments: {'query': 'best party music playlist on Spotify'}                    │\n",
       "╰─────────────────────────────────────────────────────────────────────────────────────────────────────────────────╯\n"
      ]
     },
     "metadata": {},
     "output_type": "display_data"
    },
    {
     "data": {
      "text/html": [
       "<pre style=\"white-space:pre;overflow-x:auto;line-height:normal;font-family:Menlo,'DejaVu Sans Mono',consolas,'Courier New',monospace\">╭─────────────────────────────────────────────────────────────────────────────────────────────────────────────────╮\n",
       "│ Calling tool: 'web_search' with arguments: {'query': 'DJ music for parties'}                                    │\n",
       "╰─────────────────────────────────────────────────────────────────────────────────────────────────────────────────╯\n",
       "</pre>\n"
      ],
      "text/plain": [
       "╭─────────────────────────────────────────────────────────────────────────────────────────────────────────────────╮\n",
       "│ Calling tool: 'web_search' with arguments: {'query': 'DJ music for parties'}                                    │\n",
       "╰─────────────────────────────────────────────────────────────────────────────────────────────────────────────────╯\n"
      ]
     },
     "metadata": {},
     "output_type": "display_data"
    },
    {
     "data": {
      "text/html": [
       "<pre style=\"white-space:pre;overflow-x:auto;line-height:normal;font-family:Menlo,'DejaVu Sans Mono',consolas,'Courier New',monospace\">╭─────────────────────────────────────────────────────────────────────────────────────────────────────────────────╮\n",
       "│ Calling tool: 'web_search' with arguments: {'query': 'party music compilation'}                                 │\n",
       "╰─────────────────────────────────────────────────────────────────────────────────────────────────────────────────╯\n",
       "</pre>\n"
      ],
      "text/plain": [
       "╭─────────────────────────────────────────────────────────────────────────────────────────────────────────────────╮\n",
       "│ Calling tool: 'web_search' with arguments: {'query': 'party music compilation'}                                 │\n",
       "╰─────────────────────────────────────────────────────────────────────────────────────────────────────────────────╯\n"
      ]
     },
     "metadata": {},
     "output_type": "display_data"
    },
    {
     "data": {
      "text/html": [
       "<pre style=\"white-space:pre;overflow-x:auto;line-height:normal;font-family:Menlo,'DejaVu Sans Mono',consolas,'Courier New',monospace\">╭─────────────────────────────────────────────────────────────────────────────────────────────────────────────────╮\n",
       "│ Calling tool: 'web_search' with arguments: {'query': 'Bruce Wayne party music playlist'}                        │\n",
       "╰─────────────────────────────────────────────────────────────────────────────────────────────────────────────────╯\n",
       "</pre>\n"
      ],
      "text/plain": [
       "╭─────────────────────────────────────────────────────────────────────────────────────────────────────────────────╮\n",
       "│ Calling tool: 'web_search' with arguments: {'query': 'Bruce Wayne party music playlist'}                        │\n",
       "╰─────────────────────────────────────────────────────────────────────────────────────────────────────────────────╯\n"
      ]
     },
     "metadata": {},
     "output_type": "display_data"
    },
    {
     "data": {
      "text/html": [
       "<pre style=\"white-space:pre;overflow-x:auto;line-height:normal;font-family:Menlo,'DejaVu Sans Mono',consolas,'Courier New',monospace\">╭─────────────────────────────────────────────────────────────────────────────────────────────────────────────────╮\n",
       "│ Calling tool: 'web_search' with arguments: {'query': 'Best superhero movie soundtracks for party'}              │\n",
       "╰─────────────────────────────────────────────────────────────────────────────────────────────────────────────────╯\n",
       "</pre>\n"
      ],
      "text/plain": [
       "╭─────────────────────────────────────────────────────────────────────────────────────────────────────────────────╮\n",
       "│ Calling tool: 'web_search' with arguments: {'query': 'Best superhero movie soundtracks for party'}              │\n",
       "╰─────────────────────────────────────────────────────────────────────────────────────────────────────────────────╯\n"
      ]
     },
     "metadata": {},
     "output_type": "display_data"
    },
    {
     "data": {
      "text/html": [
       "<pre style=\"white-space:pre;overflow-x:auto;line-height:normal;font-family:Menlo,'DejaVu Sans Mono',consolas,'Courier New',monospace\">╭─────────────────────────────────────────────────────────────────────────────────────────────────────────────────╮\n",
       "│ Calling tool: 'web_search' with arguments: {'query': 'Best party playlist with dancing vibes'}                  │\n",
       "╰─────────────────────────────────────────────────────────────────────────────────────────────────────────────────╯\n",
       "</pre>\n"
      ],
      "text/plain": [
       "╭─────────────────────────────────────────────────────────────────────────────────────────────────────────────────╮\n",
       "│ Calling tool: 'web_search' with arguments: {'query': 'Best party playlist with dancing vibes'}                  │\n",
       "╰─────────────────────────────────────────────────────────────────────────────────────────────────────────────────╯\n"
      ]
     },
     "metadata": {},
     "output_type": "display_data"
    },
    {
     "data": {
      "text/html": [
       "<pre style=\"white-space:pre;overflow-x:auto;line-height:normal;font-family:Menlo,'DejaVu Sans Mono',consolas,'Courier New',monospace\">╭─────────────────────────────────────────────────────────────────────────────────────────────────────────────────╮\n",
       "│ Calling tool: 'web_search' with arguments: {'query': 'Music playlist ideas for parties'}                        │\n",
       "╰─────────────────────────────────────────────────────────────────────────────────────────────────────────────────╯\n",
       "</pre>\n"
      ],
      "text/plain": [
       "╭─────────────────────────────────────────────────────────────────────────────────────────────────────────────────╮\n",
       "│ Calling tool: 'web_search' with arguments: {'query': 'Music playlist ideas for parties'}                        │\n",
       "╰─────────────────────────────────────────────────────────────────────────────────────────────────────────────────╯\n"
      ]
     },
     "metadata": {},
     "output_type": "display_data"
    },
    {
     "data": {
      "text/html": [
       "<pre style=\"white-space:pre;overflow-x:auto;line-height:normal;font-family:Menlo,'DejaVu Sans Mono',consolas,'Courier New',monospace\">Observations: ## Search Results\n",
       "\n",
       "|superhero party music - playlist by Danny Malave | \n",
       "Spotify<span style=\"font-weight: bold\">](</span><span style=\"color: #0000ff; text-decoration-color: #0000ff; text-decoration: underline\">https://open.spotify.com/playlist/3DyU3cM65SqrEFs9YYJ7H6)</span>\n",
       "superhero party music · Playlist · <span style=\"color: #008080; text-decoration-color: #008080; font-weight: bold\">67</span> songs · <span style=\"color: #008080; text-decoration-color: #008080; font-weight: bold\">28</span> likes\n",
       "\n",
       "|<span style=\"color: #008080; text-decoration-color: #008080; font-weight: bold\">23</span> Best Songs about Heroes and Superheroes - Music Grotto<span style=\"font-weight: bold\">](</span><span style=\"color: #0000ff; text-decoration-color: #0000ff; text-decoration: underline\">https://www.musicgrotto.com/songs-about-heroes/)</span>\n",
       "Superheroes and heroes in music create some of the most iconic tracks. Check out this list of these top songs about\n",
       "heroes and superheroes!\n",
       "\n",
       "|Superhero Soundtracks Reimagined: The Ultimate Hero Music \n",
       "Playlist<span style=\"font-weight: bold\">](</span><span style=\"color: #0000ff; text-decoration-color: #0000ff; text-decoration: underline\">https://www.youtube.com/playlist?list=PLXnTnaN9cIL9tynSEacdxtyd1jcte_P7q)</span>\n",
       "This ultimate hero music playlist features single tracks and songs that capture the essence of your favorite \n",
       "superheroes. Experience iconic themes and adrenaline-pumping anthems from Marvel and DC\n",
       "\n",
       "|Superhero Music<span style=\"font-weight: bold\">](</span><span style=\"color: #0000ff; text-decoration-color: #0000ff; text-decoration: underline\">https://music.youtube.com/playlist?list=PLvU3t3QkFPlvDs8lzaWL-CZPL1xJcYpLC)</span>\n",
       "The Best Hero Theme Songs Right Here! Spider-Man, <span style=\"color: #008080; text-decoration-color: #008080; font-weight: bold\">007</span>, Mission Impossible, Batman and more!\n",
       "\n",
       "|Superhero Party Music - Spotify Playlist | Partyrama \n",
       "Blog<span style=\"font-weight: bold\">](</span><span style=\"color: #0000ff; text-decoration-color: #0000ff; text-decoration: underline\">https://blog.partyrama.co.uk/superhero-party-music-spotify-playlist/)</span>\n",
       "Superhero Party Music - Spotify Playlist If you need help saving the day at your party, use our Superhero Party \n",
       "Music playlist on Spotify to bring all of your favourite action songs to the dance. Superhero parties have never \n",
       "been so much fun! With tracks from the likes of Tina Turner, Jessie J, Bon Jovi, Prince.\n",
       "\n",
       "|Superhero Music | Playlist for Pretend Play<span style=\"font-weight: bold\">](</span><span style=\"color: #0000ff; text-decoration-color: #0000ff; text-decoration: underline\">https://funorangecountyparks.com/superhero-music-playlist.html)</span>\n",
       "Superhero music playlist suggestions for a rainy day or inspired play.\n",
       "\n",
       "|Superhero Playlists | C.T. Phipps<span style=\"font-weight: bold\">](</span><span style=\"color: #0000ff; text-decoration-color: #0000ff; text-decoration: underline\">https://ctphipps.com/2023/07/24/superhero-playlists/)</span>\n",
       "Gary Karkofsky AKA Merciless: The Supervillain without Mercy's Playlist Gary's favorite songs are a collection of \n",
       "Eighties pop rock, novelty songs, and a few Halloween themed music that reminds people he's actually quite a bit \n",
       "dangerous.\n",
       "\n",
       "|The <span style=\"color: #008080; text-decoration-color: #008080; font-weight: bold\">50</span> Best Music Playlists for Parties |<span style=\"color: #008080; text-decoration-color: #008080; font-weight: bold\">2025</span><span style=\"font-weight: bold\">]</span> - Playlist \n",
       "Names<span style=\"font-weight: bold\">](</span><span style=\"color: #0000ff; text-decoration-color: #0000ff; text-decoration: underline\">https://www.playlistnames.org/best-music-playlists-for-parties/)</span>\n",
       "Are you ready to turn your next gathering into an unforgettable bash? 🎊 The right music can elevate any party, \n",
       "transforming it from a simple get-together into a full-blown celebration! In this article, we've curated a list of \n",
       "<span style=\"color: #008080; text-decoration-color: #008080; font-weight: bold\">50</span> best music playlists for parties that will keep your guests dancing all night long.\n",
       "\n",
       "|Superhero theme songs - playlist by Paige Cater | \n",
       "Spotify<span style=\"font-weight: bold\">](</span><span style=\"color: #0000ff; text-decoration-color: #0000ff; text-decoration: underline\">https://open.spotify.com/playlist/4hdQa7r3Df5mAcX7JYOqZR)</span>\n",
       "Playlist · Paige Cater · <span style=\"color: #008080; text-decoration-color: #008080; font-weight: bold\">132</span> items · <span style=\"color: #008080; text-decoration-color: #008080; font-weight: bold\">5.</span>9K likes\n",
       "\n",
       "|Superhero Theme Cheer Music - IPP Cheer Music<span style=\"font-weight: bold\">](</span><span style=\"color: #0000ff; text-decoration-color: #0000ff; text-decoration: underline\">https://ippmusic.com/mix-themes/superhero/)</span>\n",
       "Unleash your inner hero with superhero-themed cheer music mixes, featuring dramatic anthems and high-energy beats \n",
       "to captivate any audience.\n",
       "</pre>\n"
      ],
      "text/plain": [
       "Observations: ## Search Results\n",
       "\n",
       "|superhero party music - playlist by Danny Malave | \n",
       "Spotify\u001b[1m]\u001b[0m\u001b[1m(\u001b[0m\u001b[4;94mhttps://open.spotify.com/playlist/3DyU3cM65SqrEFs9YYJ7H6\u001b[0m\u001b[4;94m)\u001b[0m\n",
       "superhero party music · Playlist · \u001b[1;36m67\u001b[0m songs · \u001b[1;36m28\u001b[0m likes\n",
       "\n",
       "|\u001b[1;36m23\u001b[0m Best Songs about Heroes and Superheroes - Music Grotto\u001b[1m]\u001b[0m\u001b[1m(\u001b[0m\u001b[4;94mhttps://www.musicgrotto.com/songs-about-heroes/\u001b[0m\u001b[4;94m)\u001b[0m\n",
       "Superheroes and heroes in music create some of the most iconic tracks. Check out this list of these top songs about\n",
       "heroes and superheroes!\n",
       "\n",
       "|Superhero Soundtracks Reimagined: The Ultimate Hero Music \n",
       "Playlist\u001b[1m]\u001b[0m\u001b[1m(\u001b[0m\u001b[4;94mhttps://www.youtube.com/playlist?\u001b[0m\u001b[4;94mlist\u001b[0m\u001b[4;94m=\u001b[0m\u001b[4;94mPLXnTnaN9cIL9tynSEacdxtyd1jcte_P7q\u001b[0m\u001b[4;94m)\u001b[0m\n",
       "This ultimate hero music playlist features single tracks and songs that capture the essence of your favorite \n",
       "superheroes. Experience iconic themes and adrenaline-pumping anthems from Marvel and DC\n",
       "\n",
       "|Superhero Music\u001b[1m]\u001b[0m\u001b[1m(\u001b[0m\u001b[4;94mhttps://music.youtube.com/playlist?\u001b[0m\u001b[4;94mlist\u001b[0m\u001b[4;94m=\u001b[0m\u001b[4;94mPLvU3t3QkFPlvDs8lzaWL\u001b[0m\u001b[4;94m-CZPL1xJcYpLC\u001b[0m\u001b[4;94m)\u001b[0m\n",
       "The Best Hero Theme Songs Right Here! Spider-Man, \u001b[1;36m007\u001b[0m, Mission Impossible, Batman and more!\n",
       "\n",
       "|Superhero Party Music - Spotify Playlist | Partyrama \n",
       "Blog\u001b[1m]\u001b[0m\u001b[1m(\u001b[0m\u001b[4;94mhttps://blog.partyrama.co.uk/superhero-party-music-spotify-playlist/\u001b[0m\u001b[4;94m)\u001b[0m\n",
       "Superhero Party Music - Spotify Playlist If you need help saving the day at your party, use our Superhero Party \n",
       "Music playlist on Spotify to bring all of your favourite action songs to the dance. Superhero parties have never \n",
       "been so much fun! With tracks from the likes of Tina Turner, Jessie J, Bon Jovi, Prince.\n",
       "\n",
       "|Superhero Music | Playlist for Pretend Play\u001b[1m]\u001b[0m\u001b[1m(\u001b[0m\u001b[4;94mhttps://funorangecountyparks.com/superhero-music-playlist.html\u001b[0m\u001b[4;94m)\u001b[0m\n",
       "Superhero music playlist suggestions for a rainy day or inspired play.\n",
       "\n",
       "|Superhero Playlists | C.T. Phipps\u001b[1m]\u001b[0m\u001b[1m(\u001b[0m\u001b[4;94mhttps://ctphipps.com/2023/07/24/superhero-playlists/\u001b[0m\u001b[4;94m)\u001b[0m\n",
       "Gary Karkofsky AKA Merciless: The Supervillain without Mercy's Playlist Gary's favorite songs are a collection of \n",
       "Eighties pop rock, novelty songs, and a few Halloween themed music that reminds people he's actually quite a bit \n",
       "dangerous.\n",
       "\n",
       "|The \u001b[1;36m50\u001b[0m Best Music Playlists for Parties |\u001b[1;36m2025\u001b[0m\u001b[1m]\u001b[0m - Playlist \n",
       "Names\u001b[1m]\u001b[0m\u001b[1m(\u001b[0m\u001b[4;94mhttps://www.playlistnames.org/best-music-playlists-for-parties/\u001b[0m\u001b[4;94m)\u001b[0m\n",
       "Are you ready to turn your next gathering into an unforgettable bash? 🎊 The right music can elevate any party, \n",
       "transforming it from a simple get-together into a full-blown celebration! In this article, we've curated a list of \n",
       "\u001b[1;36m50\u001b[0m best music playlists for parties that will keep your guests dancing all night long.\n",
       "\n",
       "|Superhero theme songs - playlist by Paige Cater | \n",
       "Spotify\u001b[1m]\u001b[0m\u001b[1m(\u001b[0m\u001b[4;94mhttps://open.spotify.com/playlist/4hdQa7r3Df5mAcX7JYOqZR\u001b[0m\u001b[4;94m)\u001b[0m\n",
       "Playlist · Paige Cater · \u001b[1;36m132\u001b[0m items · \u001b[1;36m5.\u001b[0m9K likes\n",
       "\n",
       "|Superhero Theme Cheer Music - IPP Cheer Music\u001b[1m]\u001b[0m\u001b[1m(\u001b[0m\u001b[4;94mhttps://ippmusic.com/mix-themes/superhero/\u001b[0m\u001b[4;94m)\u001b[0m\n",
       "Unleash your inner hero with superhero-themed cheer music mixes, featuring dramatic anthems and high-energy beats \n",
       "to captivate any audience.\n"
      ]
     },
     "metadata": {},
     "output_type": "display_data"
    },
    {
     "data": {
      "text/html": [
       "<pre style=\"white-space:pre;overflow-x:auto;line-height:normal;font-family:Menlo,'DejaVu Sans Mono',consolas,'Courier New',monospace\">Observations: ## Search Results\n",
       "\n",
       "|The <span style=\"color: #008080; text-decoration-color: #008080; font-weight: bold\">75</span> Best Party Songs That Will Get Everyone Dancing - \n",
       "Gear4music<span style=\"font-weight: bold\">](</span><span style=\"color: #0000ff; text-decoration-color: #0000ff; text-decoration: underline\">https://www.gear4music.com/blog/best-party-songs/)</span>\n",
       "Creating a good vibe at your event hinges on selecting the perfect soundtrack. So, let's look at the <span style=\"color: #008080; text-decoration-color: #008080; font-weight: bold\">75</span> best party \n",
       "songs for your any event.\n",
       "\n",
       "|Best Party Songs That Always Get People Dancing <span style=\"color: #008080; text-decoration-color: #008080; font-weight: bold\">2025</span><span style=\"font-weight: bold\">](</span><span style=\"color: #0000ff; text-decoration-color: #0000ff; text-decoration: underline\">https://yourmusicdepot.com/party-songs/)</span>\n",
       "To help you plan your next party, we've put together a list of the best party songs to get people dancing. We \n",
       "compiled this list using data from multiple sources and input from our social media followers about what they're \n",
       "listening to these days. Check out the full playlist below for more great tunes guaranteed to keep your guests \n",
       "entertained all night long. It's time to start planning <span style=\"color: #808000; text-decoration-color: #808000\">...</span>\n",
       "\n",
       "|Best Party Hits - Dance and Vibe - playlist by Monstercat | \n",
       "Spotify<span style=\"font-weight: bold\">](</span><span style=\"color: #0000ff; text-decoration-color: #0000ff; text-decoration: underline\">https://open.spotify.com/playlist/4rIPUdx0APV1euj24QR3uN)</span>\n",
       "Best Party Hits - Dance and Vibe · Playlist · <span style=\"color: #008080; text-decoration-color: #008080; font-weight: bold\">40</span> songs · <span style=\"color: #008080; text-decoration-color: #008080; font-weight: bold\">36.</span>3K likes\n",
       "\n",
       "|Best Songs To Party: DJ's Ultimate Party Songs Playlist<span style=\"font-weight: bold\">](</span><span style=\"color: #0000ff; text-decoration-color: #0000ff; text-decoration: underline\">https://top40weekly.com/best-songs-to-party/)</span>\n",
       "If you're looking for the ultimate playlist to get your party started, look no further than this best party songs \n",
       "playlist. Whether you're hosting a birthday bash, a backyard barbecue, or just a night in with friends, the right \n",
       "music can make all the difference. From classic hits to modern bangers, we've compiled a list of the best songs to \n",
       "get your guests dancing and singing along all <span style=\"color: #808000; text-decoration-color: #808000\">...</span>\n",
       "\n",
       "|<span style=\"color: #008080; text-decoration-color: #008080; font-weight: bold\">40</span> Best Party Songs | Songs To Dance To, Ranked By Our Editors - Time \n",
       "Out<span style=\"font-weight: bold\">](</span><span style=\"color: #0000ff; text-decoration-color: #0000ff; text-decoration: underline\">https://www.timeout.com/music/best-party-songs)</span>\n",
       "Looking for dance songs? We've got you covered. From Britney Spears to Diana Ross, Charli XCX to Peggy Gou, here \n",
       "are the best party songs ever written.\n",
       "\n",
       "|The <span style=\"color: #008080; text-decoration-color: #008080; font-weight: bold\">50</span> Best Music Playlists for Parties |<span style=\"color: #008080; text-decoration-color: #008080; font-weight: bold\">2025</span><span style=\"font-weight: bold\">]</span> - Playlist \n",
       "Names<span style=\"font-weight: bold\">](</span><span style=\"color: #0000ff; text-decoration-color: #0000ff; text-decoration: underline\">https://www.playlistnames.org/best-music-playlists-for-parties/)</span>\n",
       "Are you ready to turn your next gathering into an unforgettable bash? 🎊 The right music can elevate any party, \n",
       "transforming it from a simple get-together into a full-blown celebration! In this article, we've curated a list of \n",
       "<span style=\"color: #008080; text-decoration-color: #008080; font-weight: bold\">50</span> best music playlists for parties that will keep your guests dancing all night long.\n",
       "\n",
       "|Best Party Playlist: <span style=\"color: #008080; text-decoration-color: #008080; font-weight: bold\">25</span> High-Energy Songs for the Ultimate \n",
       "Celebration<span style=\"font-weight: bold\">](</span><span style=\"color: #0000ff; text-decoration-color: #0000ff; text-decoration: underline\">https://audioassemble.com/best-party-playlist/)</span>\n",
       "This is the power of an excellently curated playlist. But how do you strike the perfect harmony of rhythm and \n",
       "melody to ignite the crowd into a frenzy of dance and cheer? In our newest feature, we'll take you on a euphoric \n",
       "sonic journey with <span style=\"color: #008080; text-decoration-color: #008080; font-weight: bold\">25</span> high-energy songs for the ultimate party playlist.\n",
       "\n",
       "|The Best Music Playlists for Every Party Vibe | \n",
       "Luvxp<span style=\"font-weight: bold\">](</span><span style=\"color: #0000ff; text-decoration-color: #0000ff; text-decoration: underline\">https://luvxp.com/The-Best-Music-Playlists-for-Every-Party-Vibe)</span>\n",
       "The right playlist can elevate any party, making it an unforgettable experience. By choosing music that fits the \n",
       "vibe and keeps guests engaged, you can create the perfect atmosphere for any occasion.\n",
       "\n",
       "|The Ultimate Playlist to Get the Party Started<span style=\"font-weight: bold\">](</span><span style=\"color: #0000ff; text-decoration-color: #0000ff; text-decoration: underline\">https://alekasgettogether.com/top-songs-for-any-party/)</span>\n",
       "Discover the ultimate party playlist for <span style=\"color: #008080; text-decoration-color: #008080; font-weight: bold\">2025</span> with over <span style=\"color: #008080; text-decoration-color: #008080; font-weight: bold\">50</span> top songs to keep your guests dancing all night long.\n",
       "\n",
       "|Energetic Songs for Dance - <span style=\"color: #008080; text-decoration-color: #008080; font-weight: bold\">100</span> Tracks for All Fun \n",
       "Vibes<span style=\"font-weight: bold\">](</span><span style=\"color: #0000ff; text-decoration-color: #0000ff; text-decoration: underline\">https://blog.delivermytune.com/energetic-songs-for-dance/)</span>\n",
       "Find <span style=\"color: #008080; text-decoration-color: #008080; font-weight: bold\">100</span>+ energetic songs for dance to fuel your parties, workouts, and celebrations. Perfect playlist to keep the \n",
       "energy alive!\n",
       "</pre>\n"
      ],
      "text/plain": [
       "Observations: ## Search Results\n",
       "\n",
       "|The \u001b[1;36m75\u001b[0m Best Party Songs That Will Get Everyone Dancing - \n",
       "Gear4music\u001b[1m]\u001b[0m\u001b[1m(\u001b[0m\u001b[4;94mhttps://www.gear4music.com/blog/best-party-songs/\u001b[0m\u001b[4;94m)\u001b[0m\n",
       "Creating a good vibe at your event hinges on selecting the perfect soundtrack. So, let's look at the \u001b[1;36m75\u001b[0m best party \n",
       "songs for your any event.\n",
       "\n",
       "|Best Party Songs That Always Get People Dancing \u001b[1;36m2025\u001b[0m\u001b[1m]\u001b[0m\u001b[1m(\u001b[0m\u001b[4;94mhttps://yourmusicdepot.com/party-songs/\u001b[0m\u001b[4;94m)\u001b[0m\n",
       "To help you plan your next party, we've put together a list of the best party songs to get people dancing. We \n",
       "compiled this list using data from multiple sources and input from our social media followers about what they're \n",
       "listening to these days. Check out the full playlist below for more great tunes guaranteed to keep your guests \n",
       "entertained all night long. It's time to start planning \u001b[33m...\u001b[0m\n",
       "\n",
       "|Best Party Hits - Dance and Vibe - playlist by Monstercat | \n",
       "Spotify\u001b[1m]\u001b[0m\u001b[1m(\u001b[0m\u001b[4;94mhttps://open.spotify.com/playlist/4rIPUdx0APV1euj24QR3uN\u001b[0m\u001b[4;94m)\u001b[0m\n",
       "Best Party Hits - Dance and Vibe · Playlist · \u001b[1;36m40\u001b[0m songs · \u001b[1;36m36.\u001b[0m3K likes\n",
       "\n",
       "|Best Songs To Party: DJ's Ultimate Party Songs Playlist\u001b[1m]\u001b[0m\u001b[1m(\u001b[0m\u001b[4;94mhttps://top40weekly.com/best-songs-to-party/\u001b[0m\u001b[4;94m)\u001b[0m\n",
       "If you're looking for the ultimate playlist to get your party started, look no further than this best party songs \n",
       "playlist. Whether you're hosting a birthday bash, a backyard barbecue, or just a night in with friends, the right \n",
       "music can make all the difference. From classic hits to modern bangers, we've compiled a list of the best songs to \n",
       "get your guests dancing and singing along all \u001b[33m...\u001b[0m\n",
       "\n",
       "|\u001b[1;36m40\u001b[0m Best Party Songs | Songs To Dance To, Ranked By Our Editors - Time \n",
       "Out\u001b[1m]\u001b[0m\u001b[1m(\u001b[0m\u001b[4;94mhttps://www.timeout.com/music/best-party-songs\u001b[0m\u001b[4;94m)\u001b[0m\n",
       "Looking for dance songs? We've got you covered. From Britney Spears to Diana Ross, Charli XCX to Peggy Gou, here \n",
       "are the best party songs ever written.\n",
       "\n",
       "|The \u001b[1;36m50\u001b[0m Best Music Playlists for Parties |\u001b[1;36m2025\u001b[0m\u001b[1m]\u001b[0m - Playlist \n",
       "Names\u001b[1m]\u001b[0m\u001b[1m(\u001b[0m\u001b[4;94mhttps://www.playlistnames.org/best-music-playlists-for-parties/\u001b[0m\u001b[4;94m)\u001b[0m\n",
       "Are you ready to turn your next gathering into an unforgettable bash? 🎊 The right music can elevate any party, \n",
       "transforming it from a simple get-together into a full-blown celebration! In this article, we've curated a list of \n",
       "\u001b[1;36m50\u001b[0m best music playlists for parties that will keep your guests dancing all night long.\n",
       "\n",
       "|Best Party Playlist: \u001b[1;36m25\u001b[0m High-Energy Songs for the Ultimate \n",
       "Celebration\u001b[1m]\u001b[0m\u001b[1m(\u001b[0m\u001b[4;94mhttps://audioassemble.com/best-party-playlist/\u001b[0m\u001b[4;94m)\u001b[0m\n",
       "This is the power of an excellently curated playlist. But how do you strike the perfect harmony of rhythm and \n",
       "melody to ignite the crowd into a frenzy of dance and cheer? In our newest feature, we'll take you on a euphoric \n",
       "sonic journey with \u001b[1;36m25\u001b[0m high-energy songs for the ultimate party playlist.\n",
       "\n",
       "|The Best Music Playlists for Every Party Vibe | \n",
       "Luvxp\u001b[1m]\u001b[0m\u001b[1m(\u001b[0m\u001b[4;94mhttps://luvxp.com/The-Best-Music-Playlists-for-Every-Party-Vibe\u001b[0m\u001b[4;94m)\u001b[0m\n",
       "The right playlist can elevate any party, making it an unforgettable experience. By choosing music that fits the \n",
       "vibe and keeps guests engaged, you can create the perfect atmosphere for any occasion.\n",
       "\n",
       "|The Ultimate Playlist to Get the Party Started\u001b[1m]\u001b[0m\u001b[1m(\u001b[0m\u001b[4;94mhttps://alekasgettogether.com/top-songs-for-any-party/\u001b[0m\u001b[4;94m)\u001b[0m\n",
       "Discover the ultimate party playlist for \u001b[1;36m2025\u001b[0m with over \u001b[1;36m50\u001b[0m top songs to keep your guests dancing all night long.\n",
       "\n",
       "|Energetic Songs for Dance - \u001b[1;36m100\u001b[0m Tracks for All Fun \n",
       "Vibes\u001b[1m]\u001b[0m\u001b[1m(\u001b[0m\u001b[4;94mhttps://blog.delivermytune.com/energetic-songs-for-dance/\u001b[0m\u001b[4;94m)\u001b[0m\n",
       "Find \u001b[1;36m100\u001b[0m+ energetic songs for dance to fuel your parties, workouts, and celebrations. Perfect playlist to keep the \n",
       "energy alive!\n"
      ]
     },
     "metadata": {},
     "output_type": "display_data"
    },
    {
     "data": {
      "text/html": [
       "<pre style=\"white-space:pre;overflow-x:auto;line-height:normal;font-family:Menlo,'DejaVu Sans Mono',consolas,'Courier New',monospace\"><span style=\"color: #800000; text-decoration-color: #800000; font-weight: bold\">Error executing tool </span><span style=\"color: #008000; text-decoration-color: #008000\">'web_search'</span><span style=\"color: #800000; text-decoration-color: #800000; font-weight: bold\"> with arguments {</span><span style=\"color: #008000; text-decoration-color: #008000\">\"query\"</span><span style=\"color: #800000; text-decoration-color: #800000; font-weight: bold\">: </span><span style=\"color: #008000; text-decoration-color: #008000\">\"Music playlist ideas for parties\"</span><span style=\"color: #800000; text-decoration-color: #800000; font-weight: bold\">}: </span>\n",
       "<span style=\"color: #800000; text-decoration-color: #800000; font-weight: bold\">DuckDuckGoSearchException: </span><span style=\"color: #0000ff; text-decoration-color: #0000ff; text-decoration: underline\">https://lite.duckduckgo.com/lite/</span><span style=\"color: #800000; text-decoration-color: #800000; font-weight: bold\"> </span><span style=\"color: #008080; text-decoration-color: #008080; font-weight: bold\">202</span><span style=\"color: #800000; text-decoration-color: #800000; font-weight: bold\"> Ratelimit</span>\n",
       "<span style=\"color: #800000; text-decoration-color: #800000; font-weight: bold\">Please try again or use another tool</span>\n",
       "</pre>\n"
      ],
      "text/plain": [
       "\u001b[1;31mError executing tool \u001b[0m\u001b[32m'web_search'\u001b[0m\u001b[1;31m with arguments \u001b[0m\u001b[1;31m{\u001b[0m\u001b[32m\"query\"\u001b[0m\u001b[1;31m: \u001b[0m\u001b[32m\"Music playlist ideas for parties\"\u001b[0m\u001b[1;31m}\u001b[0m\u001b[1;31m: \u001b[0m\n",
       "\u001b[1;31mDuckDuckGoSearchException: \u001b[0m\u001b[4;94mhttps://lite.duckduckgo.com/lite/\u001b[0m\u001b[1;31m \u001b[0m\u001b[1;36m202\u001b[0m\u001b[1;31m Ratelimit\u001b[0m\n",
       "\u001b[1;31mPlease try again or use another tool\u001b[0m\n"
      ]
     },
     "metadata": {},
     "output_type": "display_data"
    },
    {
     "data": {
      "text/html": [
       "<pre style=\"white-space:pre;overflow-x:auto;line-height:normal;font-family:Menlo,'DejaVu Sans Mono',consolas,'Courier New',monospace\">Observations: ## Search Results\n",
       "\n",
       "|Best Superhero Movie Soundtracks - Screen Rant<span style=\"font-weight: bold\">](</span><span style=\"color: #0000ff; text-decoration-color: #0000ff; text-decoration: underline\">https://screenrant.com/best-superhero-movie-soundtracks/)</span>\n",
       "As Shang-Chi's soundtrack trends the charts, here's a look at some other memorable soundtracks of superhero flicks.\n",
       "\n",
       "|The Best Superhero Soundtracks &amp; Albums from Movies - \n",
       "Ranker<span style=\"font-weight: bold\">](</span><span style=\"color: #0000ff; text-decoration-color: #0000ff; text-decoration: underline\">https://www.ranker.com/list/best-superhero-movie-soundtracks/ranker-comics)</span>\n",
       "Vote up your favorite soundtracks from superhero movies. What's a movie without a soundtrack? Even films that have \n",
       "all the eye candy and visual splendor of a superhero movie would lack heart without a great soundtrack to score \n",
       "every tender moment and awesome stunt.\n",
       "\n",
       "|<span style=\"color: #008080; text-decoration-color: #008080; font-weight: bold\">10</span> Best Superhero Movie Soundtracks - CBR<span style=\"font-weight: bold\">](</span><span style=\"color: #0000ff; text-decoration-color: #0000ff; text-decoration: underline\">https://www.cbr.com/best-superhero-movie-soundtracks/)</span>\n",
       "Superhero films attract some incredibly talented artists who've created some of the most iconic film scores of all \n",
       "time.\n",
       "\n",
       "|The best superhero movie soundtracks, from Batman to Birds of \n",
       "Prey<span style=\"font-weight: bold\">](</span><span style=\"color: #0000ff; text-decoration-color: #0000ff; text-decoration: underline\">https://ew.com/music/2020/02/06/best-superhero-movie-soundtracks/)</span>\n",
       "Our picks for the best superhero soundtracks include <span style=\"color: #008000; text-decoration-color: #008000\">'Guardians of the Galaxy: Awesome Mix Vol. 1,'</span> <span style=\"color: #008000; text-decoration-color: #008000\">'Batman,'</span> <span style=\"color: #008000; text-decoration-color: #008000\">'Into</span>\n",
       "<span style=\"color: #008000; text-decoration-color: #008000\">the Spider-Verse,'</span> and more.\n",
       "\n",
       "|The <span style=\"color: #008080; text-decoration-color: #008080; font-weight: bold\">25</span> greatest superhero scores of all time - Den of \n",
       "Geek<span style=\"font-weight: bold\">](</span><span style=\"color: #0000ff; text-decoration-color: #0000ff; text-decoration: underline\">https://www.denofgeek.com/movies/the-25-greatest-superhero-scores-of-all-time/)</span>\n",
       "Features The <span style=\"color: #008080; text-decoration-color: #008080; font-weight: bold\">25</span> greatest superhero scores of all time From Batman and Thor to Spider-Man and Captain America, \n",
       "here's our countdown of the finest superhero movie scores<span style=\"color: #808000; text-decoration-color: #808000\">...</span>\n",
       "\n",
       "|Best Superhero Movie Soundtrack - IMDb<span style=\"font-weight: bold\">](</span><span style=\"color: #0000ff; text-decoration-color: #0000ff; text-decoration: underline\">https://www.imdb.com/list/ls536277999/)</span>\n",
       "After being bitten by a genetically-modified spider, a shy teenager gains spider-like abilities that he uses to \n",
       "fight injustice as a masked superhero and face a vengeful enemy.\n",
       "\n",
       "|The <span style=\"color: #008080; text-decoration-color: #008080; font-weight: bold\">15</span> Best Superhero Movie Scores of the 21st Century - \n",
       "Inverse<span style=\"font-weight: bold\">](</span><span style=\"color: #0000ff; text-decoration-color: #0000ff; text-decoration: underline\">https://www.inverse.com/article/29932-superhero-movie-scores-soundtracks-marvel-dc)</span>\n",
       "No matter your opinions on various superhero movies, it's at least easy to admit that superhero films have some of \n",
       "the best original soundtracks out there. Superhero scores range from the ass <span style=\"color: #808000; text-decoration-color: #808000\">...</span>\n",
       "\n",
       "|Best Superhero Movie Soundtracks, Ranked<span style=\"font-weight: bold\">](</span><span style=\"color: #0000ff; text-decoration-color: #0000ff; text-decoration: underline\">https://movieweb.com/superhero-movie-soundtracks/)</span>\n",
       "Superhero movies have some of the best soundtracks in modern film history. Mixing both instrumental film scores \n",
       "with songs produced by some of the most famous musical artists in the industry today <span style=\"color: #808000; text-decoration-color: #808000\">...</span>\n",
       "\n",
       "|<span style=\"color: #008080; text-decoration-color: #008080; font-weight: bold\">10</span> Best Superhero Movie Scores - Collider<span style=\"font-weight: bold\">](</span><span style=\"color: #0000ff; text-decoration-color: #0000ff; text-decoration: underline\">https://collider.com/best-superhero-movie-scores/)</span>\n",
       "The main theme of this film is one of the most iconic main themes of any superhero movie — and that's only one of \n",
       "the many thrilling songs that make up this excellent score.\n",
       "\n",
       "|<span style=\"color: #008080; text-decoration-color: #008080; font-weight: bold\">12</span> Best Soundtracks Ever Used In Superhero \n",
       "Movies<span style=\"font-weight: bold\">](</span><span style=\"color: #0000ff; text-decoration-color: #0000ff; text-decoration: underline\">https://www.quirkybyte.com/blog/2020/11/soundtracks-in-superhero-movies/)</span>\n",
       "It's the music that sets the tone of the movie, whether it is light-hearted or spooky. That's why a smile shows up \n",
       "on our face while watching Guardians of the Galaxy with the classic pop songs. Without further ado, let us dive \n",
       "into the list of best soundtracks ever used in superhero movies. Check out if your favorite is on the list and let \n",
       "us know if we missed anything.\n",
       "</pre>\n"
      ],
      "text/plain": [
       "Observations: ## Search Results\n",
       "\n",
       "|Best Superhero Movie Soundtracks - Screen Rant\u001b[1m]\u001b[0m\u001b[1m(\u001b[0m\u001b[4;94mhttps://screenrant.com/best-superhero-movie-soundtracks/\u001b[0m\u001b[4;94m)\u001b[0m\n",
       "As Shang-Chi's soundtrack trends the charts, here's a look at some other memorable soundtracks of superhero flicks.\n",
       "\n",
       "|The Best Superhero Soundtracks & Albums from Movies - \n",
       "Ranker\u001b[1m]\u001b[0m\u001b[1m(\u001b[0m\u001b[4;94mhttps://www.ranker.com/list/best-superhero-movie-soundtracks/ranker-comics\u001b[0m\u001b[4;94m)\u001b[0m\n",
       "Vote up your favorite soundtracks from superhero movies. What's a movie without a soundtrack? Even films that have \n",
       "all the eye candy and visual splendor of a superhero movie would lack heart without a great soundtrack to score \n",
       "every tender moment and awesome stunt.\n",
       "\n",
       "|\u001b[1;36m10\u001b[0m Best Superhero Movie Soundtracks - CBR\u001b[1m]\u001b[0m\u001b[1m(\u001b[0m\u001b[4;94mhttps://www.cbr.com/best-superhero-movie-soundtracks/\u001b[0m\u001b[4;94m)\u001b[0m\n",
       "Superhero films attract some incredibly talented artists who've created some of the most iconic film scores of all \n",
       "time.\n",
       "\n",
       "|The best superhero movie soundtracks, from Batman to Birds of \n",
       "Prey\u001b[1m]\u001b[0m\u001b[1m(\u001b[0m\u001b[4;94mhttps://ew.com/music/2020/02/06/best-superhero-movie-soundtracks/\u001b[0m\u001b[4;94m)\u001b[0m\n",
       "Our picks for the best superhero soundtracks include \u001b[32m'Guardians of the Galaxy: Awesome Mix Vol. 1,'\u001b[0m \u001b[32m'Batman,'\u001b[0m \u001b[32m'Into\u001b[0m\n",
       "\u001b[32mthe Spider-Verse,'\u001b[0m and more.\n",
       "\n",
       "|The \u001b[1;36m25\u001b[0m greatest superhero scores of all time - Den of \n",
       "Geek\u001b[1m]\u001b[0m\u001b[1m(\u001b[0m\u001b[4;94mhttps://www.denofgeek.com/movies/the-25-greatest-superhero-scores-of-all-time/\u001b[0m\u001b[4;94m)\u001b[0m\n",
       "Features The \u001b[1;36m25\u001b[0m greatest superhero scores of all time From Batman and Thor to Spider-Man and Captain America, \n",
       "here's our countdown of the finest superhero movie scores\u001b[33m...\u001b[0m\n",
       "\n",
       "|Best Superhero Movie Soundtrack - IMDb\u001b[1m]\u001b[0m\u001b[1m(\u001b[0m\u001b[4;94mhttps://www.imdb.com/list/ls536277999/\u001b[0m\u001b[4;94m)\u001b[0m\n",
       "After being bitten by a genetically-modified spider, a shy teenager gains spider-like abilities that he uses to \n",
       "fight injustice as a masked superhero and face a vengeful enemy.\n",
       "\n",
       "|The \u001b[1;36m15\u001b[0m Best Superhero Movie Scores of the 21st Century - \n",
       "Inverse\u001b[1m]\u001b[0m\u001b[1m(\u001b[0m\u001b[4;94mhttps://www.inverse.com/article/29932-superhero-movie-scores-soundtracks-marvel-dc\u001b[0m\u001b[4;94m)\u001b[0m\n",
       "No matter your opinions on various superhero movies, it's at least easy to admit that superhero films have some of \n",
       "the best original soundtracks out there. Superhero scores range from the ass \u001b[33m...\u001b[0m\n",
       "\n",
       "|Best Superhero Movie Soundtracks, Ranked\u001b[1m]\u001b[0m\u001b[1m(\u001b[0m\u001b[4;94mhttps://movieweb.com/superhero-movie-soundtracks/\u001b[0m\u001b[4;94m)\u001b[0m\n",
       "Superhero movies have some of the best soundtracks in modern film history. Mixing both instrumental film scores \n",
       "with songs produced by some of the most famous musical artists in the industry today \u001b[33m...\u001b[0m\n",
       "\n",
       "|\u001b[1;36m10\u001b[0m Best Superhero Movie Scores - Collider\u001b[1m]\u001b[0m\u001b[1m(\u001b[0m\u001b[4;94mhttps://collider.com/best-superhero-movie-scores/\u001b[0m\u001b[4;94m)\u001b[0m\n",
       "The main theme of this film is one of the most iconic main themes of any superhero movie — and that's only one of \n",
       "the many thrilling songs that make up this excellent score.\n",
       "\n",
       "|\u001b[1;36m12\u001b[0m Best Soundtracks Ever Used In Superhero \n",
       "Movies\u001b[1m]\u001b[0m\u001b[1m(\u001b[0m\u001b[4;94mhttps://www.quirkybyte.com/blog/2020/11/soundtracks-in-superhero-movies/\u001b[0m\u001b[4;94m)\u001b[0m\n",
       "It's the music that sets the tone of the movie, whether it is light-hearted or spooky. That's why a smile shows up \n",
       "on our face while watching Guardians of the Galaxy with the classic pop songs. Without further ado, let us dive \n",
       "into the list of best soundtracks ever used in superhero movies. Check out if your favorite is on the list and let \n",
       "us know if we missed anything.\n"
      ]
     },
     "metadata": {},
     "output_type": "display_data"
    },
    {
     "data": {
      "text/html": [
       "<pre style=\"white-space:pre;overflow-x:auto;line-height:normal;font-family:Menlo,'DejaVu Sans Mono',consolas,'Courier New',monospace\"><span style=\"color: #800000; text-decoration-color: #800000; font-weight: bold\">Error executing tool </span><span style=\"color: #008000; text-decoration-color: #008000\">'web_search'</span><span style=\"color: #800000; text-decoration-color: #800000; font-weight: bold\"> with arguments {</span><span style=\"color: #008000; text-decoration-color: #008000\">\"query\"</span><span style=\"color: #800000; text-decoration-color: #800000; font-weight: bold\">: </span><span style=\"color: #008000; text-decoration-color: #008000\">\"best rock music playlist for party\"</span><span style=\"color: #800000; text-decoration-color: #800000; font-weight: bold\">}: </span>\n",
       "<span style=\"color: #800000; text-decoration-color: #800000; font-weight: bold\">DuckDuckGoSearchException: </span><span style=\"color: #0000ff; text-decoration-color: #0000ff; text-decoration: underline\">https://lite.duckduckgo.com/lite/</span><span style=\"color: #800000; text-decoration-color: #800000; font-weight: bold\"> </span><span style=\"color: #008080; text-decoration-color: #008080; font-weight: bold\">202</span><span style=\"color: #800000; text-decoration-color: #800000; font-weight: bold\"> Ratelimit</span>\n",
       "<span style=\"color: #800000; text-decoration-color: #800000; font-weight: bold\">Please try again or use another tool</span>\n",
       "</pre>\n"
      ],
      "text/plain": [
       "\u001b[1;31mError executing tool \u001b[0m\u001b[32m'web_search'\u001b[0m\u001b[1;31m with arguments \u001b[0m\u001b[1;31m{\u001b[0m\u001b[32m\"query\"\u001b[0m\u001b[1;31m: \u001b[0m\u001b[32m\"best rock music playlist for party\"\u001b[0m\u001b[1;31m}\u001b[0m\u001b[1;31m: \u001b[0m\n",
       "\u001b[1;31mDuckDuckGoSearchException: \u001b[0m\u001b[4;94mhttps://lite.duckduckgo.com/lite/\u001b[0m\u001b[1;31m \u001b[0m\u001b[1;36m202\u001b[0m\u001b[1;31m Ratelimit\u001b[0m\n",
       "\u001b[1;31mPlease try again or use another tool\u001b[0m\n"
      ]
     },
     "metadata": {},
     "output_type": "display_data"
    },
    {
     "data": {
      "text/html": [
       "<pre style=\"white-space:pre;overflow-x:auto;line-height:normal;font-family:Menlo,'DejaVu Sans Mono',consolas,'Courier New',monospace\"><span style=\"color: #800000; text-decoration-color: #800000; font-weight: bold\">Error executing tool </span><span style=\"color: #008000; text-decoration-color: #008000\">'web_search'</span><span style=\"color: #800000; text-decoration-color: #800000; font-weight: bold\"> with arguments {</span><span style=\"color: #008000; text-decoration-color: #008000\">\"query\"</span><span style=\"color: #800000; text-decoration-color: #800000; font-weight: bold\">: </span><span style=\"color: #008000; text-decoration-color: #008000\">\"party music compilation\"</span><span style=\"color: #800000; text-decoration-color: #800000; font-weight: bold\">}: DuckDuckGoSearchException: </span>\n",
       "<span style=\"color: #0000ff; text-decoration-color: #0000ff; text-decoration: underline\">https://html.duckduckgo.com/html</span><span style=\"color: #800000; text-decoration-color: #800000; font-weight: bold\"> </span><span style=\"color: #008080; text-decoration-color: #008080; font-weight: bold\">202</span><span style=\"color: #800000; text-decoration-color: #800000; font-weight: bold\"> Ratelimit</span>\n",
       "<span style=\"color: #800000; text-decoration-color: #800000; font-weight: bold\">Please try again or use another tool</span>\n",
       "</pre>\n"
      ],
      "text/plain": [
       "\u001b[1;31mError executing tool \u001b[0m\u001b[32m'web_search'\u001b[0m\u001b[1;31m with arguments \u001b[0m\u001b[1;31m{\u001b[0m\u001b[32m\"query\"\u001b[0m\u001b[1;31m: \u001b[0m\u001b[32m\"party music compilation\"\u001b[0m\u001b[1;31m}\u001b[0m\u001b[1;31m: DuckDuckGoSearchException: \u001b[0m\n",
       "\u001b[4;94mhttps://html.duckduckgo.com/html\u001b[0m\u001b[1;31m \u001b[0m\u001b[1;36m202\u001b[0m\u001b[1;31m Ratelimit\u001b[0m\n",
       "\u001b[1;31mPlease try again or use another tool\u001b[0m\n"
      ]
     },
     "metadata": {},
     "output_type": "display_data"
    },
    {
     "data": {
      "text/html": [
       "<pre style=\"white-space:pre;overflow-x:auto;line-height:normal;font-family:Menlo,'DejaVu Sans Mono',consolas,'Courier New',monospace\"><span style=\"color: #800000; text-decoration-color: #800000; font-weight: bold\">Error executing tool </span><span style=\"color: #008000; text-decoration-color: #008000\">'web_search'</span><span style=\"color: #800000; text-decoration-color: #800000; font-weight: bold\"> with arguments {</span><span style=\"color: #008000; text-decoration-color: #008000\">\"query\"</span><span style=\"color: #800000; text-decoration-color: #800000; font-weight: bold\">: </span><span style=\"color: #008000; text-decoration-color: #008000\">\"DJ music for parties\"</span><span style=\"color: #800000; text-decoration-color: #800000; font-weight: bold\">}: DuckDuckGoSearchException: </span>\n",
       "<span style=\"color: #0000ff; text-decoration-color: #0000ff; text-decoration: underline\">https://html.duckduckgo.com/html</span><span style=\"color: #800000; text-decoration-color: #800000; font-weight: bold\"> </span><span style=\"color: #008080; text-decoration-color: #008080; font-weight: bold\">202</span><span style=\"color: #800000; text-decoration-color: #800000; font-weight: bold\"> Ratelimit</span>\n",
       "<span style=\"color: #800000; text-decoration-color: #800000; font-weight: bold\">Please try again or use another tool</span>\n",
       "</pre>\n"
      ],
      "text/plain": [
       "\u001b[1;31mError executing tool \u001b[0m\u001b[32m'web_search'\u001b[0m\u001b[1;31m with arguments \u001b[0m\u001b[1;31m{\u001b[0m\u001b[32m\"query\"\u001b[0m\u001b[1;31m: \u001b[0m\u001b[32m\"DJ music for parties\"\u001b[0m\u001b[1;31m}\u001b[0m\u001b[1;31m: DuckDuckGoSearchException: \u001b[0m\n",
       "\u001b[4;94mhttps://html.duckduckgo.com/html\u001b[0m\u001b[1;31m \u001b[0m\u001b[1;36m202\u001b[0m\u001b[1;31m Ratelimit\u001b[0m\n",
       "\u001b[1;31mPlease try again or use another tool\u001b[0m\n"
      ]
     },
     "metadata": {},
     "output_type": "display_data"
    },
    {
     "data": {
      "text/html": [
       "<pre style=\"white-space:pre;overflow-x:auto;line-height:normal;font-family:Menlo,'DejaVu Sans Mono',consolas,'Courier New',monospace\"><span style=\"color: #800000; text-decoration-color: #800000; font-weight: bold\">Error executing tool </span><span style=\"color: #008000; text-decoration-color: #008000\">'web_search'</span><span style=\"color: #800000; text-decoration-color: #800000; font-weight: bold\"> with arguments {</span><span style=\"color: #008000; text-decoration-color: #008000\">\"query\"</span><span style=\"color: #800000; text-decoration-color: #800000; font-weight: bold\">: </span><span style=\"color: #008000; text-decoration-color: #008000\">\"best party music playlist on Spotify\"</span><span style=\"color: #800000; text-decoration-color: #800000; font-weight: bold\">}: </span>\n",
       "<span style=\"color: #800000; text-decoration-color: #800000; font-weight: bold\">DuckDuckGoSearchException: </span><span style=\"color: #0000ff; text-decoration-color: #0000ff; text-decoration: underline\">https://html.duckduckgo.com/html</span><span style=\"color: #800000; text-decoration-color: #800000; font-weight: bold\"> </span><span style=\"color: #008080; text-decoration-color: #008080; font-weight: bold\">202</span><span style=\"color: #800000; text-decoration-color: #800000; font-weight: bold\"> Ratelimit</span>\n",
       "<span style=\"color: #800000; text-decoration-color: #800000; font-weight: bold\">Please try again or use another tool</span>\n",
       "</pre>\n"
      ],
      "text/plain": [
       "\u001b[1;31mError executing tool \u001b[0m\u001b[32m'web_search'\u001b[0m\u001b[1;31m with arguments \u001b[0m\u001b[1;31m{\u001b[0m\u001b[32m\"query\"\u001b[0m\u001b[1;31m: \u001b[0m\u001b[32m\"best party music playlist on Spotify\"\u001b[0m\u001b[1;31m}\u001b[0m\u001b[1;31m: \u001b[0m\n",
       "\u001b[1;31mDuckDuckGoSearchException: \u001b[0m\u001b[4;94mhttps://html.duckduckgo.com/html\u001b[0m\u001b[1;31m \u001b[0m\u001b[1;36m202\u001b[0m\u001b[1;31m Ratelimit\u001b[0m\n",
       "\u001b[1;31mPlease try again or use another tool\u001b[0m\n"
      ]
     },
     "metadata": {},
     "output_type": "display_data"
    },
    {
     "data": {
      "text/html": [
       "<pre style=\"white-space:pre;overflow-x:auto;line-height:normal;font-family:Menlo,'DejaVu Sans Mono',consolas,'Courier New',monospace\"><span style=\"color: #800000; text-decoration-color: #800000; font-weight: bold\">Error executing tool </span><span style=\"color: #008000; text-decoration-color: #008000\">'web_search'</span><span style=\"color: #800000; text-decoration-color: #800000; font-weight: bold\"> with arguments {</span><span style=\"color: #008000; text-decoration-color: #008000\">\"query\"</span><span style=\"color: #800000; text-decoration-color: #800000; font-weight: bold\">: </span><span style=\"color: #008000; text-decoration-color: #008000\">\"best classic rock music playlist for party\"</span><span style=\"color: #800000; text-decoration-color: #800000; font-weight: bold\">}: </span>\n",
       "<span style=\"color: #800000; text-decoration-color: #800000; font-weight: bold\">DuckDuckGoSearchException: </span><span style=\"color: #0000ff; text-decoration-color: #0000ff; text-decoration: underline\">https://html.duckduckgo.com/html</span><span style=\"color: #800000; text-decoration-color: #800000; font-weight: bold\"> </span><span style=\"color: #008080; text-decoration-color: #008080; font-weight: bold\">202</span><span style=\"color: #800000; text-decoration-color: #800000; font-weight: bold\"> Ratelimit</span>\n",
       "<span style=\"color: #800000; text-decoration-color: #800000; font-weight: bold\">Please try again or use another tool</span>\n",
       "</pre>\n"
      ],
      "text/plain": [
       "\u001b[1;31mError executing tool \u001b[0m\u001b[32m'web_search'\u001b[0m\u001b[1;31m with arguments \u001b[0m\u001b[1;31m{\u001b[0m\u001b[32m\"query\"\u001b[0m\u001b[1;31m: \u001b[0m\u001b[32m\"best classic rock music playlist for party\"\u001b[0m\u001b[1;31m}\u001b[0m\u001b[1;31m: \u001b[0m\n",
       "\u001b[1;31mDuckDuckGoSearchException: \u001b[0m\u001b[4;94mhttps://html.duckduckgo.com/html\u001b[0m\u001b[1;31m \u001b[0m\u001b[1;36m202\u001b[0m\u001b[1;31m Ratelimit\u001b[0m\n",
       "\u001b[1;31mPlease try again or use another tool\u001b[0m\n"
      ]
     },
     "metadata": {},
     "output_type": "display_data"
    },
    {
     "data": {
      "text/html": [
       "<pre style=\"white-space:pre;overflow-x:auto;line-height:normal;font-family:Menlo,'DejaVu Sans Mono',consolas,'Courier New',monospace\"><span style=\"color: #800000; text-decoration-color: #800000; font-weight: bold\">Error executing tool </span><span style=\"color: #008000; text-decoration-color: #008000\">'web_search'</span><span style=\"color: #800000; text-decoration-color: #800000; font-weight: bold\"> with arguments {</span><span style=\"color: #008000; text-decoration-color: #008000\">\"query\"</span><span style=\"color: #800000; text-decoration-color: #800000; font-weight: bold\">: </span><span style=\"color: #008000; text-decoration-color: #008000\">\"Bruce Wayne party music playlist\"</span><span style=\"color: #800000; text-decoration-color: #800000; font-weight: bold\">}: </span>\n",
       "<span style=\"color: #800000; text-decoration-color: #800000; font-weight: bold\">DuckDuckGoSearchException: </span><span style=\"color: #0000ff; text-decoration-color: #0000ff; text-decoration: underline\">https://html.duckduckgo.com/html</span><span style=\"color: #800000; text-decoration-color: #800000; font-weight: bold\"> </span><span style=\"color: #008080; text-decoration-color: #008080; font-weight: bold\">202</span><span style=\"color: #800000; text-decoration-color: #800000; font-weight: bold\"> Ratelimit</span>\n",
       "<span style=\"color: #800000; text-decoration-color: #800000; font-weight: bold\">Please try again or use another tool</span>\n",
       "</pre>\n"
      ],
      "text/plain": [
       "\u001b[1;31mError executing tool \u001b[0m\u001b[32m'web_search'\u001b[0m\u001b[1;31m with arguments \u001b[0m\u001b[1;31m{\u001b[0m\u001b[32m\"query\"\u001b[0m\u001b[1;31m: \u001b[0m\u001b[32m\"Bruce Wayne party music playlist\"\u001b[0m\u001b[1;31m}\u001b[0m\u001b[1;31m: \u001b[0m\n",
       "\u001b[1;31mDuckDuckGoSearchException: \u001b[0m\u001b[4;94mhttps://html.duckduckgo.com/html\u001b[0m\u001b[1;31m \u001b[0m\u001b[1;36m202\u001b[0m\u001b[1;31m Ratelimit\u001b[0m\n",
       "\u001b[1;31mPlease try again or use another tool\u001b[0m\n"
      ]
     },
     "metadata": {},
     "output_type": "display_data"
    },
    {
     "data": {
      "text/html": [
       "<pre style=\"white-space:pre;overflow-x:auto;line-height:normal;font-family:Menlo,'DejaVu Sans Mono',consolas,'Courier New',monospace\"><span style=\"color: #7f7f7f; text-decoration-color: #7f7f7f\">[Step 2: Duration 5.08 seconds| Input tokens: 3,262 | Output tokens: 286]</span>\n",
       "</pre>\n"
      ],
      "text/plain": [
       "\u001b[2m[Step 2: Duration 5.08 seconds| Input tokens: 3,262 | Output tokens: 286]\u001b[0m\n"
      ]
     },
     "metadata": {},
     "output_type": "display_data"
    },
    {
     "data": {
      "text/html": [
       "<pre style=\"white-space:pre;overflow-x:auto;line-height:normal;font-family:Menlo,'DejaVu Sans Mono',consolas,'Courier New',monospace\"><span style=\"color: #d4b702; text-decoration-color: #d4b702\">━━━━━━━━━━━━━━━━━━━━━━━━━━━━━━━━━━━━━━━━━━━━━━━━━━━━━ </span><span style=\"font-weight: bold\">Step </span><span style=\"color: #008080; text-decoration-color: #008080; font-weight: bold\">3</span><span style=\"color: #d4b702; text-decoration-color: #d4b702\"> ━━━━━━━━━━━━━━━━━━━━━━━━━━━━━━━━━━━━━━━━━━━━━━━━━━━━━━</span>\n",
       "</pre>\n"
      ],
      "text/plain": [
       "\u001b[38;2;212;183;2m━━━━━━━━━━━━━━━━━━━━━━━━━━━━━━━━━━━━━━━━━━━━━━━━━━━━━ \u001b[0m\u001b[1mStep \u001b[0m\u001b[1;36m3\u001b[0m\u001b[38;2;212;183;2m ━━━━━━━━━━━━━━━━━━━━━━━━━━━━━━━━━━━━━━━━━━━━━━━━━━━━━━\u001b[0m\n"
      ]
     },
     "metadata": {},
     "output_type": "display_data"
    },
    {
     "data": {
      "text/html": [
       "<pre style=\"white-space:pre;overflow-x:auto;line-height:normal;font-family:Menlo,'DejaVu Sans Mono',consolas,'Courier New',monospace\">╭─────────────────────────────────────────────────────────────────────────────────────────────────────────────────╮\n",
       "│ Calling tool: 'web_search' with arguments: {'query': 'party music playlist suggestions'}                        │\n",
       "╰─────────────────────────────────────────────────────────────────────────────────────────────────────────────────╯\n",
       "</pre>\n"
      ],
      "text/plain": [
       "╭─────────────────────────────────────────────────────────────────────────────────────────────────────────────────╮\n",
       "│ Calling tool: 'web_search' with arguments: {'query': 'party music playlist suggestions'}                        │\n",
       "╰─────────────────────────────────────────────────────────────────────────────────────────────────────────────────╯\n"
      ]
     },
     "metadata": {},
     "output_type": "display_data"
    },
    {
     "data": {
      "text/html": [
       "<pre style=\"white-space:pre;overflow-x:auto;line-height:normal;font-family:Menlo,'DejaVu Sans Mono',consolas,'Courier New',monospace\"><span style=\"color: #800000; text-decoration-color: #800000; font-weight: bold\">Error executing tool </span><span style=\"color: #008000; text-decoration-color: #008000\">'web_search'</span><span style=\"color: #800000; text-decoration-color: #800000; font-weight: bold\"> with arguments {</span><span style=\"color: #008000; text-decoration-color: #008000\">\"query\"</span><span style=\"color: #800000; text-decoration-color: #800000; font-weight: bold\">: </span><span style=\"color: #008000; text-decoration-color: #008000\">\"party music playlist suggestions\"</span><span style=\"color: #800000; text-decoration-color: #800000; font-weight: bold\">}: </span>\n",
       "<span style=\"color: #800000; text-decoration-color: #800000; font-weight: bold\">DuckDuckGoSearchException: </span><span style=\"color: #0000ff; text-decoration-color: #0000ff; text-decoration: underline\">https://lite.duckduckgo.com/lite/</span><span style=\"color: #800000; text-decoration-color: #800000; font-weight: bold\"> </span><span style=\"color: #008080; text-decoration-color: #008080; font-weight: bold\">202</span><span style=\"color: #800000; text-decoration-color: #800000; font-weight: bold\"> Ratelimit</span>\n",
       "<span style=\"color: #800000; text-decoration-color: #800000; font-weight: bold\">Please try again or use another tool</span>\n",
       "</pre>\n"
      ],
      "text/plain": [
       "\u001b[1;31mError executing tool \u001b[0m\u001b[32m'web_search'\u001b[0m\u001b[1;31m with arguments \u001b[0m\u001b[1;31m{\u001b[0m\u001b[32m\"query\"\u001b[0m\u001b[1;31m: \u001b[0m\u001b[32m\"party music playlist suggestions\"\u001b[0m\u001b[1;31m}\u001b[0m\u001b[1;31m: \u001b[0m\n",
       "\u001b[1;31mDuckDuckGoSearchException: \u001b[0m\u001b[4;94mhttps://lite.duckduckgo.com/lite/\u001b[0m\u001b[1;31m \u001b[0m\u001b[1;36m202\u001b[0m\u001b[1;31m Ratelimit\u001b[0m\n",
       "\u001b[1;31mPlease try again or use another tool\u001b[0m\n"
      ]
     },
     "metadata": {},
     "output_type": "display_data"
    },
    {
     "data": {
      "text/html": [
       "<pre style=\"white-space:pre;overflow-x:auto;line-height:normal;font-family:Menlo,'DejaVu Sans Mono',consolas,'Courier New',monospace\"><span style=\"color: #7f7f7f; text-decoration-color: #7f7f7f\">[Step 3: Duration 2.37 seconds| Input tokens: 5,479 | Output tokens: 312]</span>\n",
       "</pre>\n"
      ],
      "text/plain": [
       "\u001b[2m[Step 3: Duration 2.37 seconds| Input tokens: 5,479 | Output tokens: 312]\u001b[0m\n"
      ]
     },
     "metadata": {},
     "output_type": "display_data"
    },
    {
     "data": {
      "text/html": [
       "<pre style=\"white-space:pre;overflow-x:auto;line-height:normal;font-family:Menlo,'DejaVu Sans Mono',consolas,'Courier New',monospace\"><span style=\"color: #d4b702; text-decoration-color: #d4b702\">━━━━━━━━━━━━━━━━━━━━━━━━━━━━━━━━━━━━━━━━━━━━━━━━━━━━━ </span><span style=\"font-weight: bold\">Step </span><span style=\"color: #008080; text-decoration-color: #008080; font-weight: bold\">4</span><span style=\"color: #d4b702; text-decoration-color: #d4b702\"> ━━━━━━━━━━━━━━━━━━━━━━━━━━━━━━━━━━━━━━━━━━━━━━━━━━━━━━</span>\n",
       "</pre>\n"
      ],
      "text/plain": [
       "\u001b[38;2;212;183;2m━━━━━━━━━━━━━━━━━━━━━━━━━━━━━━━━━━━━━━━━━━━━━━━━━━━━━ \u001b[0m\u001b[1mStep \u001b[0m\u001b[1;36m4\u001b[0m\u001b[38;2;212;183;2m ━━━━━━━━━━━━━━━━━━━━━━━━━━━━━━━━━━━━━━━━━━━━━━━━━━━━━━\u001b[0m\n"
      ]
     },
     "metadata": {},
     "output_type": "display_data"
    },
    {
     "data": {
      "text/html": [
       "<pre style=\"white-space:pre;overflow-x:auto;line-height:normal;font-family:Menlo,'DejaVu Sans Mono',consolas,'Courier New',monospace\">╭─────────────────────────────────────────────────────────────────────────────────────────────────────────────────╮\n",
       "│ Calling tool: 'web_search' with arguments: {'query': 'Best Bruce Wayne party music playlists'}                  │\n",
       "╰─────────────────────────────────────────────────────────────────────────────────────────────────────────────────╯\n",
       "</pre>\n"
      ],
      "text/plain": [
       "╭─────────────────────────────────────────────────────────────────────────────────────────────────────────────────╮\n",
       "│ Calling tool: 'web_search' with arguments: {'query': 'Best Bruce Wayne party music playlists'}                  │\n",
       "╰─────────────────────────────────────────────────────────────────────────────────────────────────────────────────╯\n"
      ]
     },
     "metadata": {},
     "output_type": "display_data"
    },
    {
     "data": {
      "text/html": [
       "<pre style=\"white-space:pre;overflow-x:auto;line-height:normal;font-family:Menlo,'DejaVu Sans Mono',consolas,'Courier New',monospace\"><span style=\"color: #800000; text-decoration-color: #800000; font-weight: bold\">Error executing tool </span><span style=\"color: #008000; text-decoration-color: #008000\">'web_search'</span><span style=\"color: #800000; text-decoration-color: #800000; font-weight: bold\"> with arguments {</span><span style=\"color: #008000; text-decoration-color: #008000\">\"query\"</span><span style=\"color: #800000; text-decoration-color: #800000; font-weight: bold\">: </span><span style=\"color: #008000; text-decoration-color: #008000\">\"Best Bruce Wayne party music playlists\"</span><span style=\"color: #800000; text-decoration-color: #800000; font-weight: bold\">}: </span>\n",
       "<span style=\"color: #800000; text-decoration-color: #800000; font-weight: bold\">DuckDuckGoSearchException: </span><span style=\"color: #0000ff; text-decoration-color: #0000ff; text-decoration: underline\">https://html.duckduckgo.com/html</span><span style=\"color: #800000; text-decoration-color: #800000; font-weight: bold\"> </span><span style=\"color: #008080; text-decoration-color: #008080; font-weight: bold\">202</span><span style=\"color: #800000; text-decoration-color: #800000; font-weight: bold\"> Ratelimit</span>\n",
       "<span style=\"color: #800000; text-decoration-color: #800000; font-weight: bold\">Please try again or use another tool</span>\n",
       "</pre>\n"
      ],
      "text/plain": [
       "\u001b[1;31mError executing tool \u001b[0m\u001b[32m'web_search'\u001b[0m\u001b[1;31m with arguments \u001b[0m\u001b[1;31m{\u001b[0m\u001b[32m\"query\"\u001b[0m\u001b[1;31m: \u001b[0m\u001b[32m\"Best Bruce Wayne party music playlists\"\u001b[0m\u001b[1;31m}\u001b[0m\u001b[1;31m: \u001b[0m\n",
       "\u001b[1;31mDuckDuckGoSearchException: \u001b[0m\u001b[4;94mhttps://html.duckduckgo.com/html\u001b[0m\u001b[1;31m \u001b[0m\u001b[1;36m202\u001b[0m\u001b[1;31m Ratelimit\u001b[0m\n",
       "\u001b[1;31mPlease try again or use another tool\u001b[0m\n"
      ]
     },
     "metadata": {},
     "output_type": "display_data"
    },
    {
     "data": {
      "text/html": [
       "<pre style=\"white-space:pre;overflow-x:auto;line-height:normal;font-family:Menlo,'DejaVu Sans Mono',consolas,'Courier New',monospace\"><span style=\"color: #7f7f7f; text-decoration-color: #7f7f7f\">[Step 4: Duration 2.19 seconds| Input tokens: 7,788 | Output tokens: 336]</span>\n",
       "</pre>\n"
      ],
      "text/plain": [
       "\u001b[2m[Step 4: Duration 2.19 seconds| Input tokens: 7,788 | Output tokens: 336]\u001b[0m\n"
      ]
     },
     "metadata": {},
     "output_type": "display_data"
    },
    {
     "data": {
      "text/html": [
       "<pre style=\"white-space:pre;overflow-x:auto;line-height:normal;font-family:Menlo,'DejaVu Sans Mono',consolas,'Courier New',monospace\"><span style=\"color: #d4b702; text-decoration-color: #d4b702\">━━━━━━━━━━━━━━━━━━━━━━━━━━━━━━━━━━━━━━━━━━━━━━━━━━━━━ </span><span style=\"font-weight: bold\">Step </span><span style=\"color: #008080; text-decoration-color: #008080; font-weight: bold\">5</span><span style=\"color: #d4b702; text-decoration-color: #d4b702\"> ━━━━━━━━━━━━━━━━━━━━━━━━━━━━━━━━━━━━━━━━━━━━━━━━━━━━━━</span>\n",
       "</pre>\n"
      ],
      "text/plain": [
       "\u001b[38;2;212;183;2m━━━━━━━━━━━━━━━━━━━━━━━━━━━━━━━━━━━━━━━━━━━━━━━━━━━━━ \u001b[0m\u001b[1mStep \u001b[0m\u001b[1;36m5\u001b[0m\u001b[38;2;212;183;2m ━━━━━━━━━━━━━━━━━━━━━━━━━━━━━━━━━━━━━━━━━━━━━━━━━━━━━━\u001b[0m\n"
      ]
     },
     "metadata": {},
     "output_type": "display_data"
    },
    {
     "data": {
      "text/html": [
       "<pre style=\"white-space:pre;overflow-x:auto;line-height:normal;font-family:Menlo,'DejaVu Sans Mono',consolas,'Courier New',monospace\">╭─────────────────────────────────────────────────────────────────────────────────────────────────────────────────╮\n",
       "│ Calling tool: 'web_search' with arguments: {'query': 'Best general party music playlists'}                      │\n",
       "╰─────────────────────────────────────────────────────────────────────────────────────────────────────────────────╯\n",
       "</pre>\n"
      ],
      "text/plain": [
       "╭─────────────────────────────────────────────────────────────────────────────────────────────────────────────────╮\n",
       "│ Calling tool: 'web_search' with arguments: {'query': 'Best general party music playlists'}                      │\n",
       "╰─────────────────────────────────────────────────────────────────────────────────────────────────────────────────╯\n"
      ]
     },
     "metadata": {},
     "output_type": "display_data"
    },
    {
     "data": {
      "text/html": [
       "<pre style=\"white-space:pre;overflow-x:auto;line-height:normal;font-family:Menlo,'DejaVu Sans Mono',consolas,'Courier New',monospace\"><span style=\"color: #800000; text-decoration-color: #800000; font-weight: bold\">Error executing tool </span><span style=\"color: #008000; text-decoration-color: #008000\">'web_search'</span><span style=\"color: #800000; text-decoration-color: #800000; font-weight: bold\"> with arguments {</span><span style=\"color: #008000; text-decoration-color: #008000\">\"query\"</span><span style=\"color: #800000; text-decoration-color: #800000; font-weight: bold\">: </span><span style=\"color: #008000; text-decoration-color: #008000\">\"Best general party music playlists\"</span><span style=\"color: #800000; text-decoration-color: #800000; font-weight: bold\">}: </span>\n",
       "<span style=\"color: #800000; text-decoration-color: #800000; font-weight: bold\">DuckDuckGoSearchException: </span><span style=\"color: #0000ff; text-decoration-color: #0000ff; text-decoration: underline\">https://lite.duckduckgo.com/lite/</span><span style=\"color: #800000; text-decoration-color: #800000; font-weight: bold\"> </span><span style=\"color: #008080; text-decoration-color: #008080; font-weight: bold\">202</span><span style=\"color: #800000; text-decoration-color: #800000; font-weight: bold\"> Ratelimit</span>\n",
       "<span style=\"color: #800000; text-decoration-color: #800000; font-weight: bold\">Please try again or use another tool</span>\n",
       "</pre>\n"
      ],
      "text/plain": [
       "\u001b[1;31mError executing tool \u001b[0m\u001b[32m'web_search'\u001b[0m\u001b[1;31m with arguments \u001b[0m\u001b[1;31m{\u001b[0m\u001b[32m\"query\"\u001b[0m\u001b[1;31m: \u001b[0m\u001b[32m\"Best general party music playlists\"\u001b[0m\u001b[1;31m}\u001b[0m\u001b[1;31m: \u001b[0m\n",
       "\u001b[1;31mDuckDuckGoSearchException: \u001b[0m\u001b[4;94mhttps://lite.duckduckgo.com/lite/\u001b[0m\u001b[1;31m \u001b[0m\u001b[1;36m202\u001b[0m\u001b[1;31m Ratelimit\u001b[0m\n",
       "\u001b[1;31mPlease try again or use another tool\u001b[0m\n"
      ]
     },
     "metadata": {},
     "output_type": "display_data"
    },
    {
     "data": {
      "text/html": [
       "<pre style=\"white-space:pre;overflow-x:auto;line-height:normal;font-family:Menlo,'DejaVu Sans Mono',consolas,'Courier New',monospace\"><span style=\"color: #7f7f7f; text-decoration-color: #7f7f7f\">[Step 5: Duration 2.14 seconds| Input tokens: 10,189 | Output tokens: 359]</span>\n",
       "</pre>\n"
      ],
      "text/plain": [
       "\u001b[2m[Step 5: Duration 2.14 seconds| Input tokens: 10,189 | Output tokens: 359]\u001b[0m\n"
      ]
     },
     "metadata": {},
     "output_type": "display_data"
    },
    {
     "data": {
      "text/html": [
       "<pre style=\"white-space:pre;overflow-x:auto;line-height:normal;font-family:Menlo,'DejaVu Sans Mono',consolas,'Courier New',monospace\"><span style=\"color: #d4b702; text-decoration-color: #d4b702\">━━━━━━━━━━━━━━━━━━━━━━━━━━━━━━━━━━━━━━━━━━━━━━━━━━━━━ </span><span style=\"font-weight: bold\">Step </span><span style=\"color: #008080; text-decoration-color: #008080; font-weight: bold\">6</span><span style=\"color: #d4b702; text-decoration-color: #d4b702\"> ━━━━━━━━━━━━━━━━━━━━━━━━━━━━━━━━━━━━━━━━━━━━━━━━━━━━━━</span>\n",
       "</pre>\n"
      ],
      "text/plain": [
       "\u001b[38;2;212;183;2m━━━━━━━━━━━━━━━━━━━━━━━━━━━━━━━━━━━━━━━━━━━━━━━━━━━━━ \u001b[0m\u001b[1mStep \u001b[0m\u001b[1;36m6\u001b[0m\u001b[38;2;212;183;2m ━━━━━━━━━━━━━━━━━━━━━━━━━━━━━━━━━━━━━━━━━━━━━━━━━━━━━━\u001b[0m\n"
      ]
     },
     "metadata": {},
     "output_type": "display_data"
    },
    {
     "data": {
      "text/html": [
       "<pre style=\"white-space:pre;overflow-x:auto;line-height:normal;font-family:Menlo,'DejaVu Sans Mono',consolas,'Courier New',monospace\">╭─────────────────────────────────────────────────────────────────────────────────────────────────────────────────╮\n",
       "│ Calling tool: 'web_search' with arguments: {'query': 'Popular party music tracks 2023'}                         │\n",
       "╰─────────────────────────────────────────────────────────────────────────────────────────────────────────────────╯\n",
       "</pre>\n"
      ],
      "text/plain": [
       "╭─────────────────────────────────────────────────────────────────────────────────────────────────────────────────╮\n",
       "│ Calling tool: 'web_search' with arguments: {'query': 'Popular party music tracks 2023'}                         │\n",
       "╰─────────────────────────────────────────────────────────────────────────────────────────────────────────────────╯\n"
      ]
     },
     "metadata": {},
     "output_type": "display_data"
    },
    {
     "data": {
      "text/html": [
       "<pre style=\"white-space:pre;overflow-x:auto;line-height:normal;font-family:Menlo,'DejaVu Sans Mono',consolas,'Courier New',monospace\"><span style=\"color: #800000; text-decoration-color: #800000; font-weight: bold\">Error executing tool </span><span style=\"color: #008000; text-decoration-color: #008000\">'web_search'</span><span style=\"color: #800000; text-decoration-color: #800000; font-weight: bold\"> with arguments {</span><span style=\"color: #008000; text-decoration-color: #008000\">\"query\"</span><span style=\"color: #800000; text-decoration-color: #800000; font-weight: bold\">: </span><span style=\"color: #008000; text-decoration-color: #008000\">\"Popular party music tracks 2023\"</span><span style=\"color: #800000; text-decoration-color: #800000; font-weight: bold\">}: </span>\n",
       "<span style=\"color: #800000; text-decoration-color: #800000; font-weight: bold\">DuckDuckGoSearchException: </span><span style=\"color: #0000ff; text-decoration-color: #0000ff; text-decoration: underline\">https://html.duckduckgo.com/html</span><span style=\"color: #800000; text-decoration-color: #800000; font-weight: bold\"> </span><span style=\"color: #008080; text-decoration-color: #008080; font-weight: bold\">202</span><span style=\"color: #800000; text-decoration-color: #800000; font-weight: bold\"> Ratelimit</span>\n",
       "<span style=\"color: #800000; text-decoration-color: #800000; font-weight: bold\">Please try again or use another tool</span>\n",
       "</pre>\n"
      ],
      "text/plain": [
       "\u001b[1;31mError executing tool \u001b[0m\u001b[32m'web_search'\u001b[0m\u001b[1;31m with arguments \u001b[0m\u001b[1;31m{\u001b[0m\u001b[32m\"query\"\u001b[0m\u001b[1;31m: \u001b[0m\u001b[32m\"Popular party music tracks 2023\"\u001b[0m\u001b[1;31m}\u001b[0m\u001b[1;31m: \u001b[0m\n",
       "\u001b[1;31mDuckDuckGoSearchException: \u001b[0m\u001b[4;94mhttps://html.duckduckgo.com/html\u001b[0m\u001b[1;31m \u001b[0m\u001b[1;36m202\u001b[0m\u001b[1;31m Ratelimit\u001b[0m\n",
       "\u001b[1;31mPlease try again or use another tool\u001b[0m\n"
      ]
     },
     "metadata": {},
     "output_type": "display_data"
    },
    {
     "data": {
      "text/html": [
       "<pre style=\"white-space:pre;overflow-x:auto;line-height:normal;font-family:Menlo,'DejaVu Sans Mono',consolas,'Courier New',monospace\"><span style=\"color: #7f7f7f; text-decoration-color: #7f7f7f\">[Step 6: Duration 2.21 seconds| Input tokens: 12,683 | Output tokens: 386]</span>\n",
       "</pre>\n"
      ],
      "text/plain": [
       "\u001b[2m[Step 6: Duration 2.21 seconds| Input tokens: 12,683 | Output tokens: 386]\u001b[0m\n"
      ]
     },
     "metadata": {},
     "output_type": "display_data"
    },
    {
     "data": {
      "text/html": [
       "<pre style=\"white-space:pre;overflow-x:auto;line-height:normal;font-family:Menlo,'DejaVu Sans Mono',consolas,'Courier New',monospace\"><span style=\"color: #d4b702; text-decoration-color: #d4b702\">━━━━━━━━━━━━━━━━━━━━━━━━━━━━━━━━━━━━━━━━━━━━━━━━━━━━━ </span><span style=\"font-weight: bold\">Step </span><span style=\"color: #008080; text-decoration-color: #008080; font-weight: bold\">7</span><span style=\"color: #d4b702; text-decoration-color: #d4b702\"> ━━━━━━━━━━━━━━━━━━━━━━━━━━━━━━━━━━━━━━━━━━━━━━━━━━━━━━</span>\n",
       "</pre>\n"
      ],
      "text/plain": [
       "\u001b[38;2;212;183;2m━━━━━━━━━━━━━━━━━━━━━━━━━━━━━━━━━━━━━━━━━━━━━━━━━━━━━ \u001b[0m\u001b[1mStep \u001b[0m\u001b[1;36m7\u001b[0m\u001b[38;2;212;183;2m ━━━━━━━━━━━━━━━━━━━━━━━━━━━━━━━━━━━━━━━━━━━━━━━━━━━━━━\u001b[0m\n"
      ]
     },
     "metadata": {},
     "output_type": "display_data"
    },
    {
     "data": {
      "text/html": [
       "<pre style=\"white-space:pre;overflow-x:auto;line-height:normal;font-family:Menlo,'DejaVu Sans Mono',consolas,'Courier New',monospace\">╭─────────────────────────────────────────────────────────────────────────────────────────────────────────────────╮\n",
       "│ Calling tool: 'web_search' with arguments: {'query': 'Recommended party music for adults'}                      │\n",
       "╰─────────────────────────────────────────────────────────────────────────────────────────────────────────────────╯\n",
       "</pre>\n"
      ],
      "text/plain": [
       "╭─────────────────────────────────────────────────────────────────────────────────────────────────────────────────╮\n",
       "│ Calling tool: 'web_search' with arguments: {'query': 'Recommended party music for adults'}                      │\n",
       "╰─────────────────────────────────────────────────────────────────────────────────────────────────────────────────╯\n"
      ]
     },
     "metadata": {},
     "output_type": "display_data"
    },
    {
     "data": {
      "text/html": [
       "<pre style=\"white-space:pre;overflow-x:auto;line-height:normal;font-family:Menlo,'DejaVu Sans Mono',consolas,'Courier New',monospace\">╭─────────────────────────────────────────────────────────────────────────────────────────────────────────────────╮\n",
       "│ Calling tool: 'web_search' with arguments: {'query': 'Best songs for a themed party'}                           │\n",
       "╰─────────────────────────────────────────────────────────────────────────────────────────────────────────────────╯\n",
       "</pre>\n"
      ],
      "text/plain": [
       "╭─────────────────────────────────────────────────────────────────────────────────────────────────────────────────╮\n",
       "│ Calling tool: 'web_search' with arguments: {'query': 'Best songs for a themed party'}                           │\n",
       "╰─────────────────────────────────────────────────────────────────────────────────────────────────────────────────╯\n"
      ]
     },
     "metadata": {},
     "output_type": "display_data"
    },
    {
     "data": {
      "text/html": [
       "<pre style=\"white-space:pre;overflow-x:auto;line-height:normal;font-family:Menlo,'DejaVu Sans Mono',consolas,'Courier New',monospace\"><span style=\"color: #800000; text-decoration-color: #800000; font-weight: bold\">Error executing tool </span><span style=\"color: #008000; text-decoration-color: #008000\">'web_search'</span><span style=\"color: #800000; text-decoration-color: #800000; font-weight: bold\"> with arguments {</span><span style=\"color: #008000; text-decoration-color: #008000\">\"query\"</span><span style=\"color: #800000; text-decoration-color: #800000; font-weight: bold\">: </span><span style=\"color: #008000; text-decoration-color: #008000\">\"Recommended party music for adults\"</span><span style=\"color: #800000; text-decoration-color: #800000; font-weight: bold\">}: </span>\n",
       "<span style=\"color: #800000; text-decoration-color: #800000; font-weight: bold\">DuckDuckGoSearchException: </span><span style=\"color: #0000ff; text-decoration-color: #0000ff; text-decoration: underline\">https://html.duckduckgo.com/html</span><span style=\"color: #800000; text-decoration-color: #800000; font-weight: bold\"> </span><span style=\"color: #008080; text-decoration-color: #008080; font-weight: bold\">202</span><span style=\"color: #800000; text-decoration-color: #800000; font-weight: bold\"> Ratelimit</span>\n",
       "<span style=\"color: #800000; text-decoration-color: #800000; font-weight: bold\">Please try again or use another tool</span>\n",
       "</pre>\n"
      ],
      "text/plain": [
       "\u001b[1;31mError executing tool \u001b[0m\u001b[32m'web_search'\u001b[0m\u001b[1;31m with arguments \u001b[0m\u001b[1;31m{\u001b[0m\u001b[32m\"query\"\u001b[0m\u001b[1;31m: \u001b[0m\u001b[32m\"Recommended party music for adults\"\u001b[0m\u001b[1;31m}\u001b[0m\u001b[1;31m: \u001b[0m\n",
       "\u001b[1;31mDuckDuckGoSearchException: \u001b[0m\u001b[4;94mhttps://html.duckduckgo.com/html\u001b[0m\u001b[1;31m \u001b[0m\u001b[1;36m202\u001b[0m\u001b[1;31m Ratelimit\u001b[0m\n",
       "\u001b[1;31mPlease try again or use another tool\u001b[0m\n"
      ]
     },
     "metadata": {},
     "output_type": "display_data"
    },
    {
     "data": {
      "text/html": [
       "<pre style=\"white-space:pre;overflow-x:auto;line-height:normal;font-family:Menlo,'DejaVu Sans Mono',consolas,'Courier New',monospace\"><span style=\"color: #800000; text-decoration-color: #800000; font-weight: bold\">Error executing tool </span><span style=\"color: #008000; text-decoration-color: #008000\">'web_search'</span><span style=\"color: #800000; text-decoration-color: #800000; font-weight: bold\"> with arguments {</span><span style=\"color: #008000; text-decoration-color: #008000\">\"query\"</span><span style=\"color: #800000; text-decoration-color: #800000; font-weight: bold\">: </span><span style=\"color: #008000; text-decoration-color: #008000\">\"Best songs for a themed party\"</span><span style=\"color: #800000; text-decoration-color: #800000; font-weight: bold\">}: </span>\n",
       "<span style=\"color: #800000; text-decoration-color: #800000; font-weight: bold\">DuckDuckGoSearchException: </span><span style=\"color: #0000ff; text-decoration-color: #0000ff; text-decoration: underline\">https://html.duckduckgo.com/html</span><span style=\"color: #800000; text-decoration-color: #800000; font-weight: bold\"> </span><span style=\"color: #008080; text-decoration-color: #008080; font-weight: bold\">202</span><span style=\"color: #800000; text-decoration-color: #800000; font-weight: bold\"> Ratelimit</span>\n",
       "<span style=\"color: #800000; text-decoration-color: #800000; font-weight: bold\">Please try again or use another tool</span>\n",
       "</pre>\n"
      ],
      "text/plain": [
       "\u001b[1;31mError executing tool \u001b[0m\u001b[32m'web_search'\u001b[0m\u001b[1;31m with arguments \u001b[0m\u001b[1;31m{\u001b[0m\u001b[32m\"query\"\u001b[0m\u001b[1;31m: \u001b[0m\u001b[32m\"Best songs for a themed party\"\u001b[0m\u001b[1;31m}\u001b[0m\u001b[1;31m: \u001b[0m\n",
       "\u001b[1;31mDuckDuckGoSearchException: \u001b[0m\u001b[4;94mhttps://html.duckduckgo.com/html\u001b[0m\u001b[1;31m \u001b[0m\u001b[1;36m202\u001b[0m\u001b[1;31m Ratelimit\u001b[0m\n",
       "\u001b[1;31mPlease try again or use another tool\u001b[0m\n"
      ]
     },
     "metadata": {},
     "output_type": "display_data"
    },
    {
     "data": {
      "text/html": [
       "<pre style=\"white-space:pre;overflow-x:auto;line-height:normal;font-family:Menlo,'DejaVu Sans Mono',consolas,'Courier New',monospace\"><span style=\"color: #7f7f7f; text-decoration-color: #7f7f7f\">[Step 7: Duration 2.48 seconds| Input tokens: 15,272 | Output tokens: 432]</span>\n",
       "</pre>\n"
      ],
      "text/plain": [
       "\u001b[2m[Step 7: Duration 2.48 seconds| Input tokens: 15,272 | Output tokens: 432]\u001b[0m\n"
      ]
     },
     "metadata": {},
     "output_type": "display_data"
    },
    {
     "data": {
      "text/html": [
       "<pre style=\"white-space:pre;overflow-x:auto;line-height:normal;font-family:Menlo,'DejaVu Sans Mono',consolas,'Courier New',monospace\"><span style=\"color: #d4b702; text-decoration-color: #d4b702\">━━━━━━━━━━━━━━━━━━━━━━━━━━━━━━━━━━━━━━━━━━━━━━━━━━━━━ </span><span style=\"font-weight: bold\">Step </span><span style=\"color: #008080; text-decoration-color: #008080; font-weight: bold\">8</span><span style=\"color: #d4b702; text-decoration-color: #d4b702\"> ━━━━━━━━━━━━━━━━━━━━━━━━━━━━━━━━━━━━━━━━━━━━━━━━━━━━━━</span>\n",
       "</pre>\n"
      ],
      "text/plain": [
       "\u001b[38;2;212;183;2m━━━━━━━━━━━━━━━━━━━━━━━━━━━━━━━━━━━━━━━━━━━━━━━━━━━━━ \u001b[0m\u001b[1mStep \u001b[0m\u001b[1;36m8\u001b[0m\u001b[38;2;212;183;2m ━━━━━━━━━━━━━━━━━━━━━━━━━━━━━━━━━━━━━━━━━━━━━━━━━━━━━━\u001b[0m\n"
      ]
     },
     "metadata": {},
     "output_type": "display_data"
    },
    {
     "data": {
      "text/html": [
       "<pre style=\"white-space:pre;overflow-x:auto;line-height:normal;font-family:Menlo,'DejaVu Sans Mono',consolas,'Courier New',monospace\">╭─────────────────────────────────────────────────────────────────────────────────────────────────────────────────╮\n",
       "│ Calling tool: 'web_search' with arguments: {'query': 'Top 100 dance tracks for parties'}                        │\n",
       "╰─────────────────────────────────────────────────────────────────────────────────────────────────────────────────╯\n",
       "</pre>\n"
      ],
      "text/plain": [
       "╭─────────────────────────────────────────────────────────────────────────────────────────────────────────────────╮\n",
       "│ Calling tool: 'web_search' with arguments: {'query': 'Top 100 dance tracks for parties'}                        │\n",
       "╰─────────────────────────────────────────────────────────────────────────────────────────────────────────────────╯\n"
      ]
     },
     "metadata": {},
     "output_type": "display_data"
    },
    {
     "data": {
      "text/html": [
       "<pre style=\"white-space:pre;overflow-x:auto;line-height:normal;font-family:Menlo,'DejaVu Sans Mono',consolas,'Courier New',monospace\"><span style=\"color: #800000; text-decoration-color: #800000; font-weight: bold\">Error executing tool </span><span style=\"color: #008000; text-decoration-color: #008000\">'web_search'</span><span style=\"color: #800000; text-decoration-color: #800000; font-weight: bold\"> with arguments {</span><span style=\"color: #008000; text-decoration-color: #008000\">\"query\"</span><span style=\"color: #800000; text-decoration-color: #800000; font-weight: bold\">: </span><span style=\"color: #008000; text-decoration-color: #008000\">\"Top 100 dance tracks for parties\"</span><span style=\"color: #800000; text-decoration-color: #800000; font-weight: bold\">}: </span>\n",
       "<span style=\"color: #800000; text-decoration-color: #800000; font-weight: bold\">DuckDuckGoSearchException: </span><span style=\"color: #0000ff; text-decoration-color: #0000ff; text-decoration: underline\">https://lite.duckduckgo.com/lite/</span><span style=\"color: #800000; text-decoration-color: #800000; font-weight: bold\"> </span><span style=\"color: #008080; text-decoration-color: #008080; font-weight: bold\">202</span><span style=\"color: #800000; text-decoration-color: #800000; font-weight: bold\"> Ratelimit</span>\n",
       "<span style=\"color: #800000; text-decoration-color: #800000; font-weight: bold\">Please try again or use another tool</span>\n",
       "</pre>\n"
      ],
      "text/plain": [
       "\u001b[1;31mError executing tool \u001b[0m\u001b[32m'web_search'\u001b[0m\u001b[1;31m with arguments \u001b[0m\u001b[1;31m{\u001b[0m\u001b[32m\"query\"\u001b[0m\u001b[1;31m: \u001b[0m\u001b[32m\"Top 100 dance tracks for parties\"\u001b[0m\u001b[1;31m}\u001b[0m\u001b[1;31m: \u001b[0m\n",
       "\u001b[1;31mDuckDuckGoSearchException: \u001b[0m\u001b[4;94mhttps://lite.duckduckgo.com/lite/\u001b[0m\u001b[1;31m \u001b[0m\u001b[1;36m202\u001b[0m\u001b[1;31m Ratelimit\u001b[0m\n",
       "\u001b[1;31mPlease try again or use another tool\u001b[0m\n"
      ]
     },
     "metadata": {},
     "output_type": "display_data"
    },
    {
     "data": {
      "text/html": [
       "<pre style=\"white-space:pre;overflow-x:auto;line-height:normal;font-family:Menlo,'DejaVu Sans Mono',consolas,'Courier New',monospace\"><span style=\"color: #7f7f7f; text-decoration-color: #7f7f7f\">[Step 8: Duration 2.52 seconds| Input tokens: 17,952 | Output tokens: 459]</span>\n",
       "</pre>\n"
      ],
      "text/plain": [
       "\u001b[2m[Step 8: Duration 2.52 seconds| Input tokens: 17,952 | Output tokens: 459]\u001b[0m\n"
      ]
     },
     "metadata": {},
     "output_type": "display_data"
    },
    {
     "data": {
      "text/html": [
       "<pre style=\"white-space:pre;overflow-x:auto;line-height:normal;font-family:Menlo,'DejaVu Sans Mono',consolas,'Courier New',monospace\"><span style=\"color: #d4b702; text-decoration-color: #d4b702\">━━━━━━━━━━━━━━━━━━━━━━━━━━━━━━━━━━━━━━━━━━━━━━━━━━━━━ </span><span style=\"font-weight: bold\">Step </span><span style=\"color: #008080; text-decoration-color: #008080; font-weight: bold\">9</span><span style=\"color: #d4b702; text-decoration-color: #d4b702\"> ━━━━━━━━━━━━━━━━━━━━━━━━━━━━━━━━━━━━━━━━━━━━━━━━━━━━━━</span>\n",
       "</pre>\n"
      ],
      "text/plain": [
       "\u001b[38;2;212;183;2m━━━━━━━━━━━━━━━━━━━━━━━━━━━━━━━━━━━━━━━━━━━━━━━━━━━━━ \u001b[0m\u001b[1mStep \u001b[0m\u001b[1;36m9\u001b[0m\u001b[38;2;212;183;2m ━━━━━━━━━━━━━━━━━━━━━━━━━━━━━━━━━━━━━━━━━━━━━━━━━━━━━━\u001b[0m\n"
      ]
     },
     "metadata": {},
     "output_type": "display_data"
    },
    {
     "data": {
      "text/html": [
       "<pre style=\"white-space:pre;overflow-x:auto;line-height:normal;font-family:Menlo,'DejaVu Sans Mono',consolas,'Courier New',monospace\">╭─────────────────────────────────────────────────────────────────────────────────────────────────────────────────╮\n",
       "│ Calling tool: 'web_search' with arguments: {'query': 'Classic rock party music playlist'}                       │\n",
       "╰─────────────────────────────────────────────────────────────────────────────────────────────────────────────────╯\n",
       "</pre>\n"
      ],
      "text/plain": [
       "╭─────────────────────────────────────────────────────────────────────────────────────────────────────────────────╮\n",
       "│ Calling tool: 'web_search' with arguments: {'query': 'Classic rock party music playlist'}                       │\n",
       "╰─────────────────────────────────────────────────────────────────────────────────────────────────────────────────╯\n"
      ]
     },
     "metadata": {},
     "output_type": "display_data"
    },
    {
     "data": {
      "text/html": [
       "<pre style=\"white-space:pre;overflow-x:auto;line-height:normal;font-family:Menlo,'DejaVu Sans Mono',consolas,'Courier New',monospace\"><span style=\"color: #800000; text-decoration-color: #800000; font-weight: bold\">Error executing tool </span><span style=\"color: #008000; text-decoration-color: #008000\">'web_search'</span><span style=\"color: #800000; text-decoration-color: #800000; font-weight: bold\"> with arguments {</span><span style=\"color: #008000; text-decoration-color: #008000\">\"query\"</span><span style=\"color: #800000; text-decoration-color: #800000; font-weight: bold\">: </span><span style=\"color: #008000; text-decoration-color: #008000\">\"Classic rock party music playlist\"</span><span style=\"color: #800000; text-decoration-color: #800000; font-weight: bold\">}: </span>\n",
       "<span style=\"color: #800000; text-decoration-color: #800000; font-weight: bold\">DuckDuckGoSearchException: </span><span style=\"color: #0000ff; text-decoration-color: #0000ff; text-decoration: underline\">https://lite.duckduckgo.com/lite/</span><span style=\"color: #800000; text-decoration-color: #800000; font-weight: bold\"> </span><span style=\"color: #008080; text-decoration-color: #008080; font-weight: bold\">202</span><span style=\"color: #800000; text-decoration-color: #800000; font-weight: bold\"> Ratelimit</span>\n",
       "<span style=\"color: #800000; text-decoration-color: #800000; font-weight: bold\">Please try again or use another tool</span>\n",
       "</pre>\n"
      ],
      "text/plain": [
       "\u001b[1;31mError executing tool \u001b[0m\u001b[32m'web_search'\u001b[0m\u001b[1;31m with arguments \u001b[0m\u001b[1;31m{\u001b[0m\u001b[32m\"query\"\u001b[0m\u001b[1;31m: \u001b[0m\u001b[32m\"Classic rock party music playlist\"\u001b[0m\u001b[1;31m}\u001b[0m\u001b[1;31m: \u001b[0m\n",
       "\u001b[1;31mDuckDuckGoSearchException: \u001b[0m\u001b[4;94mhttps://lite.duckduckgo.com/lite/\u001b[0m\u001b[1;31m \u001b[0m\u001b[1;36m202\u001b[0m\u001b[1;31m Ratelimit\u001b[0m\n",
       "\u001b[1;31mPlease try again or use another tool\u001b[0m\n"
      ]
     },
     "metadata": {},
     "output_type": "display_data"
    },
    {
     "data": {
      "text/html": [
       "<pre style=\"white-space:pre;overflow-x:auto;line-height:normal;font-family:Menlo,'DejaVu Sans Mono',consolas,'Courier New',monospace\"><span style=\"color: #7f7f7f; text-decoration-color: #7f7f7f\">[Step 9: Duration 2.29 seconds| Input tokens: 20,729 | Output tokens: 482]</span>\n",
       "</pre>\n"
      ],
      "text/plain": [
       "\u001b[2m[Step 9: Duration 2.29 seconds| Input tokens: 20,729 | Output tokens: 482]\u001b[0m\n"
      ]
     },
     "metadata": {},
     "output_type": "display_data"
    },
    {
     "data": {
      "text/html": [
       "<pre style=\"white-space:pre;overflow-x:auto;line-height:normal;font-family:Menlo,'DejaVu Sans Mono',consolas,'Courier New',monospace\"><span style=\"color: #d4b702; text-decoration-color: #d4b702\">━━━━━━━━━━━━━━━━━━━━━━━━━━━━━━━━━━━━━━━━━━━━━━━━━━━━━ </span><span style=\"font-weight: bold\">Step </span><span style=\"color: #008080; text-decoration-color: #008080; font-weight: bold\">10</span><span style=\"color: #d4b702; text-decoration-color: #d4b702\"> ━━━━━━━━━━━━━━━━━━━━━━━━━━━━━━━━━━━━━━━━━━━━━━━━━━━━━</span>\n",
       "</pre>\n"
      ],
      "text/plain": [
       "\u001b[38;2;212;183;2m━━━━━━━━━━━━━━━━━━━━━━━━━━━━━━━━━━━━━━━━━━━━━━━━━━━━━ \u001b[0m\u001b[1mStep \u001b[0m\u001b[1;36m10\u001b[0m\u001b[38;2;212;183;2m ━━━━━━━━━━━━━━━━━━━━━━━━━━━━━━━━━━━━━━━━━━━━━━━━━━━━━\u001b[0m\n"
      ]
     },
     "metadata": {},
     "output_type": "display_data"
    },
    {
     "data": {
      "text/html": [
       "<pre style=\"white-space:pre;overflow-x:auto;line-height:normal;font-family:Menlo,'DejaVu Sans Mono',consolas,'Courier New',monospace\">╭─────────────────────────────────────────────────────────────────────────────────────────────────────────────────╮\n",
       "│ Calling tool: 'web_search' with arguments: {'query': 'Best party music tracks of all time'}                     │\n",
       "╰─────────────────────────────────────────────────────────────────────────────────────────────────────────────────╯\n",
       "</pre>\n"
      ],
      "text/plain": [
       "╭─────────────────────────────────────────────────────────────────────────────────────────────────────────────────╮\n",
       "│ Calling tool: 'web_search' with arguments: {'query': 'Best party music tracks of all time'}                     │\n",
       "╰─────────────────────────────────────────────────────────────────────────────────────────────────────────────────╯\n"
      ]
     },
     "metadata": {},
     "output_type": "display_data"
    },
    {
     "data": {
      "text/html": [
       "<pre style=\"white-space:pre;overflow-x:auto;line-height:normal;font-family:Menlo,'DejaVu Sans Mono',consolas,'Courier New',monospace\"><span style=\"color: #800000; text-decoration-color: #800000; font-weight: bold\">Error executing tool </span><span style=\"color: #008000; text-decoration-color: #008000\">'web_search'</span><span style=\"color: #800000; text-decoration-color: #800000; font-weight: bold\"> with arguments {</span><span style=\"color: #008000; text-decoration-color: #008000\">\"query\"</span><span style=\"color: #800000; text-decoration-color: #800000; font-weight: bold\">: </span><span style=\"color: #008000; text-decoration-color: #008000\">\"Best party music tracks of all time\"</span><span style=\"color: #800000; text-decoration-color: #800000; font-weight: bold\">}: </span>\n",
       "<span style=\"color: #800000; text-decoration-color: #800000; font-weight: bold\">DuckDuckGoSearchException: </span><span style=\"color: #0000ff; text-decoration-color: #0000ff; text-decoration: underline\">https://lite.duckduckgo.com/lite/</span><span style=\"color: #800000; text-decoration-color: #800000; font-weight: bold\"> </span><span style=\"color: #008080; text-decoration-color: #008080; font-weight: bold\">202</span><span style=\"color: #800000; text-decoration-color: #800000; font-weight: bold\"> Ratelimit</span>\n",
       "<span style=\"color: #800000; text-decoration-color: #800000; font-weight: bold\">Please try again or use another tool</span>\n",
       "</pre>\n"
      ],
      "text/plain": [
       "\u001b[1;31mError executing tool \u001b[0m\u001b[32m'web_search'\u001b[0m\u001b[1;31m with arguments \u001b[0m\u001b[1;31m{\u001b[0m\u001b[32m\"query\"\u001b[0m\u001b[1;31m: \u001b[0m\u001b[32m\"Best party music tracks of all time\"\u001b[0m\u001b[1;31m}\u001b[0m\u001b[1;31m: \u001b[0m\n",
       "\u001b[1;31mDuckDuckGoSearchException: \u001b[0m\u001b[4;94mhttps://lite.duckduckgo.com/lite/\u001b[0m\u001b[1;31m \u001b[0m\u001b[1;36m202\u001b[0m\u001b[1;31m Ratelimit\u001b[0m\n",
       "\u001b[1;31mPlease try again or use another tool\u001b[0m\n"
      ]
     },
     "metadata": {},
     "output_type": "display_data"
    },
    {
     "data": {
      "text/html": [
       "<pre style=\"white-space:pre;overflow-x:auto;line-height:normal;font-family:Menlo,'DejaVu Sans Mono',consolas,'Courier New',monospace\"><span style=\"color: #7f7f7f; text-decoration-color: #7f7f7f\">[Step 10: Duration 2.32 seconds| Input tokens: 23,599 | Output tokens: 507]</span>\n",
       "</pre>\n"
      ],
      "text/plain": [
       "\u001b[2m[Step 10: Duration 2.32 seconds| Input tokens: 23,599 | Output tokens: 507]\u001b[0m\n"
      ]
     },
     "metadata": {},
     "output_type": "display_data"
    },
    {
     "data": {
      "text/html": [
       "<pre style=\"white-space:pre;overflow-x:auto;line-height:normal;font-family:Menlo,'DejaVu Sans Mono',consolas,'Courier New',monospace\"><span style=\"color: #d4b702; text-decoration-color: #d4b702\">━━━━━━━━━━━━━━━━━━━━━━━━━━━━━━━━━━━━━━━━━━━━━━━━━━━━━ </span><span style=\"font-weight: bold\">Step </span><span style=\"color: #008080; text-decoration-color: #008080; font-weight: bold\">11</span><span style=\"color: #d4b702; text-decoration-color: #d4b702\"> ━━━━━━━━━━━━━━━━━━━━━━━━━━━━━━━━━━━━━━━━━━━━━━━━━━━━━</span>\n",
       "</pre>\n"
      ],
      "text/plain": [
       "\u001b[38;2;212;183;2m━━━━━━━━━━━━━━━━━━━━━━━━━━━━━━━━━━━━━━━━━━━━━━━━━━━━━ \u001b[0m\u001b[1mStep \u001b[0m\u001b[1;36m11\u001b[0m\u001b[38;2;212;183;2m ━━━━━━━━━━━━━━━━━━━━━━━━━━━━━━━━━━━━━━━━━━━━━━━━━━━━━\u001b[0m\n"
      ]
     },
     "metadata": {},
     "output_type": "display_data"
    },
    {
     "data": {
      "text/html": [
       "<pre style=\"white-space:pre;overflow-x:auto;line-height:normal;font-family:Menlo,'DejaVu Sans Mono',consolas,'Courier New',monospace\">╭─────────────────────────────────────────────────────────────────────────────────────────────────────────────────╮\n",
       "│ Calling tool: 'final_answer' with arguments: {'answer': \"Given the ratelimit errors, I'll curate a playlist     │\n",
       "│ based on commonly recommended music genres and artists for parties. Here's a mix that can work well for a party │\n",
       "│ atmosphere similar to Wayne's mansion: \\n\\n1. AC/DC - Back in Black\\n2. Queen - Bohemian Rhapsody\\n3. Elton     │\n",
       "│ John - Rocket Man\\n4. Daft Punk - Get Lucky\\n5. Michael Jackson - Thriller\\n6. The Beatles - Let It Be\\n7. Pink │\n",
       "│ Floyd - Another Brick in the Wall (Part II)\\n8. Red Hot Chili Peppers - Californication\\n9. Imagine Dragons -   │\n",
       "│ Radioactive\\n10. Coldplay - Viva La Vida\\n11. David Bowie - Life on Mars?\\n12. Journey - Don't Stop             │\n",
       "│ Believin'\\n13. Muse - Uprising\\n14. Radiohead - Creep\\n15. Def Leppard - Pour Some Sugar on Me\\n\\nFeel free to  │\n",
       "│ adjust the playlist according to your preferences!\"}                                                            │\n",
       "╰─────────────────────────────────────────────────────────────────────────────────────────────────────────────────╯\n",
       "</pre>\n"
      ],
      "text/plain": [
       "╭─────────────────────────────────────────────────────────────────────────────────────────────────────────────────╮\n",
       "│ Calling tool: 'final_answer' with arguments: {'answer': \"Given the ratelimit errors, I'll curate a playlist     │\n",
       "│ based on commonly recommended music genres and artists for parties. Here's a mix that can work well for a party │\n",
       "│ atmosphere similar to Wayne's mansion: \\n\\n1. AC/DC - Back in Black\\n2. Queen - Bohemian Rhapsody\\n3. Elton     │\n",
       "│ John - Rocket Man\\n4. Daft Punk - Get Lucky\\n5. Michael Jackson - Thriller\\n6. The Beatles - Let It Be\\n7. Pink │\n",
       "│ Floyd - Another Brick in the Wall (Part II)\\n8. Red Hot Chili Peppers - Californication\\n9. Imagine Dragons -   │\n",
       "│ Radioactive\\n10. Coldplay - Viva La Vida\\n11. David Bowie - Life on Mars?\\n12. Journey - Don't Stop             │\n",
       "│ Believin'\\n13. Muse - Uprising\\n14. Radiohead - Creep\\n15. Def Leppard - Pour Some Sugar on Me\\n\\nFeel free to  │\n",
       "│ adjust the playlist according to your preferences!\"}                                                            │\n",
       "╰─────────────────────────────────────────────────────────────────────────────────────────────────────────────────╯\n"
      ]
     },
     "metadata": {},
     "output_type": "display_data"
    },
    {
     "data": {
      "text/html": [
       "<pre style=\"white-space:pre;overflow-x:auto;line-height:normal;font-family:Menlo,'DejaVu Sans Mono',consolas,'Courier New',monospace\"><span style=\"color: #d4b702; text-decoration-color: #d4b702; font-weight: bold\">Final answer: Given the ratelimit errors, I'll curate a playlist based on commonly recommended music genres and </span>\n",
       "<span style=\"color: #d4b702; text-decoration-color: #d4b702; font-weight: bold\">artists for parties. Here's a mix that can work well for a party atmosphere similar to Wayne's mansion: </span>\n",
       "\n",
       "<span style=\"color: #d4b702; text-decoration-color: #d4b702; font-weight: bold\">1. AC/DC - Back in Black</span>\n",
       "<span style=\"color: #d4b702; text-decoration-color: #d4b702; font-weight: bold\">2. Queen - Bohemian Rhapsody</span>\n",
       "<span style=\"color: #d4b702; text-decoration-color: #d4b702; font-weight: bold\">3. Elton John - Rocket Man</span>\n",
       "<span style=\"color: #d4b702; text-decoration-color: #d4b702; font-weight: bold\">4. Daft Punk - Get Lucky</span>\n",
       "<span style=\"color: #d4b702; text-decoration-color: #d4b702; font-weight: bold\">5. Michael Jackson - Thriller</span>\n",
       "<span style=\"color: #d4b702; text-decoration-color: #d4b702; font-weight: bold\">6. The Beatles - Let It Be</span>\n",
       "<span style=\"color: #d4b702; text-decoration-color: #d4b702; font-weight: bold\">7. Pink Floyd - Another Brick in the Wall (Part II)</span>\n",
       "<span style=\"color: #d4b702; text-decoration-color: #d4b702; font-weight: bold\">8. Red Hot Chili Peppers - Californication</span>\n",
       "<span style=\"color: #d4b702; text-decoration-color: #d4b702; font-weight: bold\">9. Imagine Dragons - Radioactive</span>\n",
       "<span style=\"color: #d4b702; text-decoration-color: #d4b702; font-weight: bold\">10. Coldplay - Viva La Vida</span>\n",
       "<span style=\"color: #d4b702; text-decoration-color: #d4b702; font-weight: bold\">11. David Bowie - Life on Mars?</span>\n",
       "<span style=\"color: #d4b702; text-decoration-color: #d4b702; font-weight: bold\">12. Journey - Don't Stop Believin'</span>\n",
       "<span style=\"color: #d4b702; text-decoration-color: #d4b702; font-weight: bold\">13. Muse - Uprising</span>\n",
       "<span style=\"color: #d4b702; text-decoration-color: #d4b702; font-weight: bold\">14. Radiohead - Creep</span>\n",
       "<span style=\"color: #d4b702; text-decoration-color: #d4b702; font-weight: bold\">15. Def Leppard - Pour Some Sugar on Me</span>\n",
       "\n",
       "<span style=\"color: #d4b702; text-decoration-color: #d4b702; font-weight: bold\">Feel free to adjust the playlist according to your preferences!</span>\n",
       "</pre>\n"
      ],
      "text/plain": [
       "\u001b[1;38;2;212;183;2mFinal answer: Given the ratelimit errors, I'll curate a playlist based on commonly recommended music genres and \u001b[0m\n",
       "\u001b[1;38;2;212;183;2martists for parties. Here's a mix that can work well for a party atmosphere similar to Wayne's mansion: \u001b[0m\n",
       "\n",
       "\u001b[1;38;2;212;183;2m1. AC/DC - Back in Black\u001b[0m\n",
       "\u001b[1;38;2;212;183;2m2. Queen - Bohemian Rhapsody\u001b[0m\n",
       "\u001b[1;38;2;212;183;2m3. Elton John - Rocket Man\u001b[0m\n",
       "\u001b[1;38;2;212;183;2m4. Daft Punk - Get Lucky\u001b[0m\n",
       "\u001b[1;38;2;212;183;2m5. Michael Jackson - Thriller\u001b[0m\n",
       "\u001b[1;38;2;212;183;2m6. The Beatles - Let It Be\u001b[0m\n",
       "\u001b[1;38;2;212;183;2m7. Pink Floyd - Another Brick in the Wall (Part II)\u001b[0m\n",
       "\u001b[1;38;2;212;183;2m8. Red Hot Chili Peppers - Californication\u001b[0m\n",
       "\u001b[1;38;2;212;183;2m9. Imagine Dragons - Radioactive\u001b[0m\n",
       "\u001b[1;38;2;212;183;2m10. Coldplay - Viva La Vida\u001b[0m\n",
       "\u001b[1;38;2;212;183;2m11. David Bowie - Life on Mars?\u001b[0m\n",
       "\u001b[1;38;2;212;183;2m12. Journey - Don't Stop Believin'\u001b[0m\n",
       "\u001b[1;38;2;212;183;2m13. Muse - Uprising\u001b[0m\n",
       "\u001b[1;38;2;212;183;2m14. Radiohead - Creep\u001b[0m\n",
       "\u001b[1;38;2;212;183;2m15. Def Leppard - Pour Some Sugar on Me\u001b[0m\n",
       "\n",
       "\u001b[1;38;2;212;183;2mFeel free to adjust the playlist according to your preferences!\u001b[0m\n"
      ]
     },
     "metadata": {},
     "output_type": "display_data"
    },
    {
     "data": {
      "text/html": [
       "<pre style=\"white-space:pre;overflow-x:auto;line-height:normal;font-family:Menlo,'DejaVu Sans Mono',consolas,'Courier New',monospace\"><span style=\"color: #7f7f7f; text-decoration-color: #7f7f7f\">[Step 11: Duration 3.38 seconds| Input tokens: 26,564 | Output tokens: 738]</span>\n",
       "</pre>\n"
      ],
      "text/plain": [
       "\u001b[2m[Step 11: Duration 3.38 seconds| Input tokens: 26,564 | Output tokens: 738]\u001b[0m\n"
      ]
     },
     "metadata": {},
     "output_type": "display_data"
    },
    {
     "data": {
      "text/plain": [
       "\"Given the ratelimit errors, I'll curate a playlist based on commonly recommended music genres and artists for parties. Here's a mix that can work well for a party atmosphere similar to Wayne's mansion: \\n\\n1. AC/DC - Back in Black\\n2. Queen - Bohemian Rhapsody\\n3. Elton John - Rocket Man\\n4. Daft Punk - Get Lucky\\n5. Michael Jackson - Thriller\\n6. The Beatles - Let It Be\\n7. Pink Floyd - Another Brick in the Wall (Part II)\\n8. Red Hot Chili Peppers - Californication\\n9. Imagine Dragons - Radioactive\\n10. Coldplay - Viva La Vida\\n11. David Bowie - Life on Mars?\\n12. Journey - Don't Stop Believin'\\n13. Muse - Uprising\\n14. Radiohead - Creep\\n15. Def Leppard - Pour Some Sugar on Me\\n\\nFeel free to adjust the playlist according to your preferences!\""
      ]
     },
     "execution_count": 2,
     "metadata": {},
     "output_type": "execute_result"
    }
   ],
   "source": [
    "agent = ToolCallingAgent(tools=[DuckDuckGoSearchTool()], model=InferenceClientModel())\n",
    "\n",
    "agent.run(\"Search for the best music recommendations for a party at the Wayne's mansion.\")"
   ]
  },
  {
   "cell_type": "code",
   "execution_count": null,
   "id": "9920378d",
   "metadata": {},
   "outputs": [],
   "source": []
  }
 ],
 "metadata": {
  "kernelspec": {
   "display_name": "ai-agent-hugging-face-course",
   "language": "python",
   "name": "python3"
  },
  "language_info": {
   "codemirror_mode": {
    "name": "ipython",
    "version": 3
   },
   "file_extension": ".py",
   "mimetype": "text/x-python",
   "name": "python",
   "nbconvert_exporter": "python",
   "pygments_lexer": "ipython3",
   "version": "3.12.10"
  }
 },
 "nbformat": 4,
 "nbformat_minor": 5
}
