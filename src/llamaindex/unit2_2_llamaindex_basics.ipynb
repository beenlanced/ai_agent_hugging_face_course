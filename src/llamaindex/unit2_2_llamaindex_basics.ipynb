{
 "cells": [
  {
   "cell_type": "markdown",
   "id": "7d0c6818",
   "metadata": {},
   "source": [
    "# Project 1: Making an AI agent with LLAMAINDEX\n",
    "\n",
    "### Follow the instructions \n",
    "Here are [instructions](https://huggingface.co/learn/agents-course/unit2/llama-index/llama-hub) for the tutorial that are helpful for this notebook.\n",
    "\n",
    "\n",
    "### Description:\n",
    "This project uses `llamaindex`, a library that provides a framework for developing your agents with ease.\n",
    "\n",
    "\n",
    "### For this course, I am using \n",
    "\n",
    "\n",
    "see also [github code](https://github.com/huggingface/agents-course)\n",
    "\n"
   ]
  },
  {
   "cell_type": "markdown",
   "id": "e610a1ff",
   "metadata": {},
   "source": [
    "## Load Imports"
   ]
  },
  {
   "cell_type": "code",
   "execution_count": 1,
   "id": "c7109b60",
   "metadata": {},
   "outputs": [],
   "source": [
    "\n",
    "import os\n",
    "\n",
    "from dotenv import load_dotenv\n",
    "from llama_index.llms.huggingface_api import HuggingFaceInferenceAPI"
   ]
  },
  {
   "cell_type": "markdown",
   "id": "4bb83118",
   "metadata": {},
   "source": [
    "##### Login to the Hugging Face Hub to Have Access to the Serveless Inference API\n",
    "\n",
    "Note: You will need to add your token when prompted.\n",
    "\n",
    "\n",
    "`HF_TOKEN_INFERENCE2`"
   ]
  },
  {
   "cell_type": "code",
   "execution_count": 2,
   "id": "66e0ec6e",
   "metadata": {},
   "outputs": [
    {
     "data": {
      "text/plain": [
       "True"
      ]
     },
     "execution_count": 2,
     "metadata": {},
     "output_type": "execute_result"
    }
   ],
   "source": [
    "# Load environment variables from .env\n",
    "load_dotenv()"
   ]
  },
  {
   "cell_type": "code",
   "execution_count": 3,
   "id": "0187b847",
   "metadata": {},
   "outputs": [],
   "source": [
    "# Get Hugging Face Token\n",
    "HF_TOKEN_INFERENCE2 = os.environ.get(\"HF_TOKEN_INFERENCE2\")"
   ]
  },
  {
   "cell_type": "code",
   "execution_count": 4,
   "id": "9afff9db",
   "metadata": {},
   "outputs": [],
   "source": [
    "# build the LLM model\n",
    "llm = HuggingFaceInferenceAPI(\n",
    "    model_name=\"Qwen/Qwen2.5-Coder-32B-Instruct\",\n",
    "    temperature=0.7,\n",
    "    max_tokens=100,\n",
    "    token=HF_TOKEN_INFERENCE2,\n",
    ")"
   ]
  },
  {
   "cell_type": "code",
   "execution_count": null,
   "id": "05b8b487",
   "metadata": {},
   "outputs": [
    {
     "name": "stdout",
     "output_type": "stream",
     "text": [
      "Hello! I'm just a computer program, so I don't have feelings, but I'm here and ready to help you. How can I assist you today?\n"
     ]
    }
   ],
   "source": [
    "#Test the model\n",
    "response = llm.complete(\"Hello, how are you?\")\n",
    "print(response)\n",
    "# Hello! I'm just a computer program, so I don't have feelings, but I'm here and ready to help you. How can I assist you today?"
   ]
  }
 ],
 "metadata": {
  "kernelspec": {
   "display_name": "ai-agent-hugging-face-course",
   "language": "python",
   "name": "python3"
  },
  "language_info": {
   "codemirror_mode": {
    "name": "ipython",
    "version": 3
   },
   "file_extension": ".py",
   "mimetype": "text/x-python",
   "name": "python",
   "nbconvert_exporter": "python",
   "pygments_lexer": "ipython3",
   "version": "3.12.10"
  }
 },
 "nbformat": 4,
 "nbformat_minor": 5
}
